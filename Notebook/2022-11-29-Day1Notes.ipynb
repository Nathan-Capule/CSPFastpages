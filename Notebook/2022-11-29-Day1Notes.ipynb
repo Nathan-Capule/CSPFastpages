{
 "cells": [
  {
   "cell_type": "markdown",
   "metadata": {},
   "source": [
    "Lesson 3.3-3.4\n",
    "> Notes and work for 3.3 and 3.4\n",
    "\n",
    "- layout: default\n",
    "- badges: false\n",
    "- permalink: /collegeboard/error\n",
    "- image: /images/apcsp.png\n",
    "- categories: [1.B, 4.C]\n",
    "- type: ap\n",
    "- week: 14"
   ]
  },
  {
   "cell_type": "markdown",
   "metadata": {},
   "source": [
    "## Notes\n",
    "\n",
    "### What is an Algorithm\n",
    "* Sequencing: Algorithms do tasks in order\n",
    "* Selection: Helps to choose an outcome\n",
    "* Iteration: Code repeats if true\n",
    "* Algorithms can be shown in two ways. \n",
    "    * In flowcharts which uses shapes and arrows\n",
    "    *  In Pseudocode where there is human language and coding format.\n",
    "\n",
    "### Order of Operations\n",
    "\n",
    "* Operations in parentheses are done first\n",
    "* Division and multiplication before addition and subtraction\n",
    "* Modules works similar to multiplication and division"
   ]
  }
 ],
 "metadata": {
  "kernelspec": {
   "display_name": "Python 3.10.6 64-bit",
   "language": "python",
   "name": "python3"
  },
  "language_info": {
   "name": "python",
   "version": "3.10.6"
  },
  "orig_nbformat": 4,
  "vscode": {
   "interpreter": {
    "hash": "aee8b7b246df8f9039afb4144a1f6fd8d2ca17a180786b69acc140d282b71a49"
   }
  }
 },
 "nbformat": 4,
 "nbformat_minor": 2
}
