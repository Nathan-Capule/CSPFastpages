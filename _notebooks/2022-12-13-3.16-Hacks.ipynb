{
 "cells": [
  {
   "cell_type": "markdown",
   "metadata": {},
   "source": [
    "## Notes For 3.16\n",
    "- Simulation: Imitation of a process, kinda of like an experiment in your computer.\n",
    "- Example of a simulation is games as it is just testing and running code technically.\n",
    "- Try to think of why a simulation would be helpful, this will allow you to see if a simulation is even necessary.\n",
    "- Advantages of simulations\n",
    "    - Safer\n",
    "    - cost effective\n",
    "    - efficient\n",
    "- Disadvantages\n",
    "    - Not as accurate\n",
    "    - Data could be changing\n",
    "- Real life example: Four corners\n",
    "- For the four corners, there are many different outside variables that could change the outcome, such as Mr.Mortenson being able to hear people move, or maybe him even peeking and looking to see which number people choose.\n",
    "- Dice is an example of a good simulation as rolling a die could be done much more efficiently within a simulation.\n",
    "---"
   ]
  },
  {
   "cell_type": "markdown",
   "metadata": {},
   "source": [
    "## Hacks\n",
    "* Create an idea for a simulation and describe it (you don’t actually have to code it just think about/answer the guiding questions).\n",
    "    * One idea for a simulation is an engine testing simulation for airplanes. The simulation will run flights through different weather conditions where each weather condition having a different chance at causing a malfunction in the engine. The simulation will run until the engine fails and then print how many flights the engine lasted. This would allow mechanics to easily test different builds and allow them to make small changes without having to wait until a plane in real life fails.\n"
   ]
  },
  {
   "cell_type": "code",
   "execution_count": 2,
   "metadata": {},
   "outputs": [
    {
     "name": "stdout",
     "output_type": "stream",
     "text": [
      "Welcome to the Simulations Quiz!\n",
      "\n",
      " True or False: Simulations will always have the same result. \n",
      " A: True, \n",
      " B: False\n",
      "You said:  B\n",
      "Correct!\n",
      "\n",
      " True or False: A simulation has results that are more accurate than an experiment \n",
      " A: True, \n",
      " B: False\n",
      "You said:  B\n",
      "Correct!\n",
      "\n",
      " True or False: A simulation can model real world events that are not practical for experiments \n",
      " A: True, \n",
      " B: False\n",
      "You said:  A\n",
      "Correct!\n",
      "\n",
      " Which one of these is FALSE regarding simulations \n",
      " A: Reduces Costs, \n",
      " B: Is safer than real life experiments, \n",
      " C: More Efficient, \n",
      " D: More accurate than real life experiments\n",
      "You said:  D\n",
      "Correct!\n",
      "\n",
      " Which of the following scenarios would be the LEAST beneficial to have as a simulation \n",
      " A: A retail company wants to identify the item which sold the most on their website, \n",
      " B: A restaurant wants to determine if the use of robots will increase efficiency, \n",
      " C: An insurance company wants to study the impact of rain on car accidents, \n",
      " D: A sports car company wants to study design changes to their new bike design \n",
      "You said:  A\n",
      "Correct!\n",
      "\n",
      " Which of the following is better to do as a simulation than as a calculation \n",
      " A: Keeping score at a basketball game, \n",
      " B: Keeping track of how many games a person has won, \n",
      " C: Determining the average grade for a group of tests, \n",
      " D: Studying the impact of carbon emissions on the environment\n",
      "You said:  D\n",
      "Correct!\n",
      "You scored:  6 /6\n"
     ]
    }
   ],
   "source": [
    "questions_number = 6\n",
    "answers_correct = 0\n",
    "questions = [\n",
    "    \"True or False: Simulations will always have the same result. \\n A: True, \\n B: False\",\n",
    "    \"True or False: A simulation has results that are more accurate than an experiment \\n A: True, \\n B: False\",\n",
    "    \"True or False: A simulation can model real world events that are not practical for experiments \\n A: True, \\n B: False\",\n",
    "    \"Which one of these is FALSE regarding simulations \\n A: Reduces Costs, \\n B: Is safer than real life experiments, \\n C: More Efficient, \\n D: More accurate than real life experiments\",\n",
    "    \"Which of the following scenarios would be the LEAST beneficial to have as a simulation \\n A: A retail company wants to identify the item which sold the most on their website, \\n B: A restaurant wants to determine if the use of robots will increase efficiency, \\n C: An insurance company wants to study the impact of rain on car accidents, \\n D: A sports car company wants to study design changes to their new bike design \",\n",
    "    \"Which of the following is better to do as a simulation than as a calculation \\n A: Keeping score at a basketball game, \\n B: Keeping track of how many games a person has won, \\n C: Determining the average grade for a group of tests, \\n D: Studying the impact of carbon emissions on the environment\"\n",
    "]\n",
    "question_answers = [\n",
    "    \"B\",\n",
    "    \"B\",\n",
    "    \"A\",\n",
    "    \"D\",\n",
    "    \"A\",\n",
    "    \"D\"\n",
    "]\n",
    "\n",
    "print(\"Welcome to the Simulations Quiz!\")\n",
    "\n",
    "def ask_question (question, answer):\n",
    "    print(\"\\n\", question)\n",
    "    user_answer = input(question)\n",
    "    print(\"You said: \", user_answer)\n",
    "\n",
    "    if user_answer == answer:\n",
    "        print(\"Correct!\")\n",
    "        global answers_correct\n",
    "        answers_correct = answers_correct + 1\n",
    "    else:\n",
    "        print(\"You are incorrect\")\n",
    "    \n",
    "for num in range(questions_number):\n",
    "    ask_question(questions[num], question_answers[num])\n",
    "\n",
    "print(\"You scored: \", answers_correct, \"/6\")"
   ]
  },
  {
   "cell_type": "markdown",
   "metadata": {},
   "source": [
    "### Hack #3\n",
    "* Describe the rolling dice simulation (answer guiding questions)\n",
    "    * The rolling dice simulation chooses a random number from 1-6 which simulates the possible outcomes from rolling a standard 6 sided die. This is an example to a simulation as it imitates the process of rolling a die. The advantages is that this is purely random, not changed by small imperfections within one side of the die. A disadvantage is that it is not perfectly related to a die in the real world as it is actually random. I think that an experiment would be better as it would give more accurate results.\n",
    "### Hack #4\n",
    "* Add a feature onto the rolling dice simulation above \n",
    "    - ex: a 14-sided dice or expand the purpose of the simulation (hint: use conditionals to make dice part of a game/real life situation)\n",
    "I changed it so that you can roll a 13-sided die and roll up to 13 times. I also added different if-statements depending on the sum of the results.\n"
   ]
  },
  {
   "cell_type": "code",
   "execution_count": 8,
   "metadata": {},
   "outputs": [
    {
     "name": "stdout",
     "output_type": "stream",
     "text": [
      "you rolled: [8, 13, 1, 2, 10, 9, 8, 11, 2, 12, 2, 2, 5] that is actually a lot\n"
     ]
    }
   ],
   "source": [
    "\n",
    "\n",
    "def parse_input(input_string):\n",
    "    if input_string.strip() in {\"1\", \"2\", \"3\",\"4\", \"5\", \"6\", \"7\", \"8\", \"9\", \"10\", \"11\", \"12\", \"13\"}:\n",
    "        return int(input_string)\n",
    "    else:\n",
    "        print(\"Please enter a number from 1 to 13.\")\n",
    "        raise SystemExit(1)\n",
    "\n",
    "import random\n",
    "\n",
    "def roll_dice(num_dice):\n",
    "    roll_results = []\n",
    "    for _ in range(num_dice):\n",
    "        roll = random.randint(1, 13)\n",
    "        roll_results.append(roll)\n",
    "    return roll_results\n",
    "\n",
    "\n",
    "num_dice_input = input(\"How many dice do you want to roll? [1-6] \")\n",
    "num_dice = parse_input(num_dice_input)\n",
    "roll_results = roll_dice(num_dice)\n",
    "import math\n",
    "if sum(roll_results) > 50:\n",
    "    print(\"you rolled:\", roll_results, \"that is actually a lot\") \n",
    "if sum(roll_results) < 50:\n",
    "    print(\"you rolled:\", roll_results, \"wow thats it\") \n"
   ]
  },
  {
   "cell_type": "markdown",
   "metadata": {},
   "source": [
    "## Extra Credit\n",
    "This is a simulation because it simulates picking a random destination to fly to. An advantage to this is it is actually random and you will see real \"random\" results, but a disadvantage to this is that it is not realistic at all. People would not randomly choose a destination so this has no real purpose. I think that an experiment would be more accurate to see where people would travel to."
   ]
  },
  {
   "cell_type": "code",
   "execution_count": 11,
   "metadata": {},
   "outputs": [
    {
     "name": "stdout",
     "output_type": "stream",
     "text": [
      "You can print whatever you want.\n"
     ]
    }
   ],
   "source": [
    "import random\n",
    "flight = random.randint(1,3)\n",
    "\n",
    "if flight == 1:\n",
    "    print(\"You are flying nowhere :(\")\n",
    "if flight == 2:\n",
    "    print(\"You can fly to Rome!\")\n",
    "if flight == 3:\n",
    "    print(\"You can print whatever you want.\")"
   ]
  }
 ],
 "metadata": {
  "kernelspec": {
   "display_name": "Python 3.10.6 64-bit",
   "language": "python",
   "name": "python3"
  },
  "language_info": {
   "codemirror_mode": {
    "name": "ipython",
    "version": 3
   },
   "file_extension": ".py",
   "mimetype": "text/x-python",
   "name": "python",
   "nbconvert_exporter": "python",
   "pygments_lexer": "ipython3",
   "version": "3.10.6"
  },
  "orig_nbformat": 4,
  "vscode": {
   "interpreter": {
    "hash": "aee8b7b246df8f9039afb4144a1f6fd8d2ca17a180786b69acc140d282b71a49"
   }
  }
 },
 "nbformat": 4,
 "nbformat_minor": 2
}
