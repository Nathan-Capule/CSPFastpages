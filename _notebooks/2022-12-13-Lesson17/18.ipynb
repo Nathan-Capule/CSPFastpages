{
 "cells": [
  {
   "cell_type": "markdown",
   "metadata": {},
   "source": [
    "# Unit 3.17 - 3.18 Unsolveable Problems\n",
    "\n",
    "- toc: true \n",
    "- badges: true\n",
    "- comments: true\n",
    "- categories: [Student Teaching]\n",
    "\n",
    "{% include nav_frontend.html %}"
   ]
  },
  {
   "cell_type": "markdown",
   "metadata": {},
   "source": [
    "## Lesson 17 and 18 Unsolvable Problems\n",
    "### Secton 17\n",
    "- Unsolvable problem: There is no code that can be written that will give an answer.\n",
    "- Undecidable problem: There is no code that can find the answer, but there is an answer, just too complex.\n",
    "- undecidability example is that there is no way to prove the collatz conjecture as true for all real numbers or if it is false.\n",
    "- Hailstone numbers is the list of numbers returned by running the Coltaz code.\n",
    "- Algorithm Efficiency measures how many steps it takes to complete an algorithm where less steps means more efficient.\n",
    "- Algorithms can make life easier\n",
    "---\n",
    "## Hacks\n",
    "### Unit 3 Section 18\n",
    "- Take the two codes above and combine them so one imput gives the output that contains both the hailstone numbers and the number of iterations it takes i = 1. The more efficient the code, the higher your grade will be. (Algorithm Efficency) (.25)\n"
   ]
  },
  {
   "cell_type": "code",
   "execution_count": 21,
   "metadata": {},
   "outputs": [
    {
     "name": "stdout",
     "output_type": "stream",
     "text": [
      "Please enter a number: \n",
      "Number of iterations: 5\n",
      "Sequence: 32 16 8 4 2 1\n"
     ]
    }
   ],
   "source": [
    "def collatz(i):\n",
    "    while i > 1:\n",
    "        if (i % 2):\n",
    "            i = 3*i + 1\n",
    "            list_.append(i)\n",
    "        else:\n",
    "            i = i//2\n",
    "            list_.append(i)\n",
    "    return list_\n",
    "\n",
    "\n",
    "print('Please enter a number:')\n",
    "while True:\n",
    "    try:\n",
    "        k = int(input())\n",
    "        list_ = [k]\n",
    "        break\n",
    "    except ValueError:\n",
    "        print('Invaid selection, try again: ', end='')\n",
    "\n",
    "\n",
    "l = collatz(i)\n",
    "\n",
    "print('Number of iterations:', len(l) - 1)\n",
    "print('Sequence: ', end='')\n",
    "print(*l, sep=\" \")"
   ]
  },
  {
   "cell_type": "markdown",
   "metadata": {},
   "source": [
    "### Unit 3 Section 17 Hacks\n",
    "- Write 2 algorithms: One is efficent and one is innefficent, then explain why one is efficent while the other isn't. (.25)"
   ]
  },
  {
   "cell_type": "code",
   "execution_count": 22,
   "metadata": {},
   "outputs": [
    {
     "name": "stdout",
     "output_type": "stream",
     "text": [
      "apple banana grape strawberry\n"
     ]
    }
   ],
   "source": [
    "fruit1 = \"apple\"\n",
    "fruit2 = \"banana\"\n",
    "fruit3 = \"grape\"\n",
    "fruit4 = \"strawberry\"\n",
    "print(fruit1, fruit2, fruit3, fruit4)"
   ]
  },
  {
   "cell_type": "code",
   "execution_count": 23,
   "metadata": {},
   "outputs": [
    {
     "name": "stdout",
     "output_type": "stream",
     "text": [
      "['apple', 'banana', 'grape', 'strawberry']\n"
     ]
    }
   ],
   "source": [
    "fruits = [\"apple\", \"banana\", \"grape\", \"strawberry\"]\n",
    "print(fruits)"
   ]
  },
  {
   "cell_type": "markdown",
   "metadata": {},
   "source": [
    "The first example was inefficient as I had to define each fruit while and print each one. but the second example is much more efficient as I was able to create a list of fruits and print the list."
   ]
  },
  {
   "cell_type": "markdown",
   "metadata": {},
   "source": [
    "* Explain why one algorithm is more efficient than another using mathematical and/or formal reasoning. (.25)\n",
    "- One way that an algorithm is more efficient than another is if one completes the task quicker than the other. If two algorithms complete the same task yet one can do it in half the time, that algorithm is more efficient as it saves time.\n",
    "* use variables, if statements, and loops to program your algorithm and upload to jupyter notebooks/ fastpages. (.25)"
   ]
  },
  {
   "cell_type": "code",
   "execution_count": 30,
   "metadata": {},
   "outputs": [
    {
     "name": "stdout",
     "output_type": "stream",
     "text": [
      "I have not found the strawberry yet\n",
      "I found the strawberry\n"
     ]
    }
   ],
   "source": [
    "fruits = [\"apple\", \"banana\", \"grape\", \"strawberry\"]\n",
    "x = \"strawberry\"\n",
    "def search(fruits, x):\n",
    "    for i in range(len(fruits)):\n",
    "        if fruits[i] == x:\n",
    "            print(\"I have not found the strawberry yet\")\n",
    "            return True\n",
    "    return False\n",
    "if search(fruits, x):\n",
    "    print(\"I found the strawberry\")"
   ]
  }
 ],
 "metadata": {
  "kernelspec": {
   "display_name": "Python 3.10.6 64-bit",
   "language": "python",
   "name": "python3"
  },
  "language_info": {
   "codemirror_mode": {
    "name": "ipython",
    "version": 3
   },
   "file_extension": ".py",
   "mimetype": "text/x-python",
   "name": "python",
   "nbconvert_exporter": "python",
   "pygments_lexer": "ipython3",
   "version": "3.10.6"
  },
  "orig_nbformat": 4,
  "vscode": {
   "interpreter": {
    "hash": "aee8b7b246df8f9039afb4144a1f6fd8d2ca17a180786b69acc140d282b71a49"
   }
  }
 },
 "nbformat": 4,
 "nbformat_minor": 2
}
