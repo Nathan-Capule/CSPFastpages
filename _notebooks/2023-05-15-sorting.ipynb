{
 "cells": [
  {
   "attachments": {},
   "cell_type": "markdown",
   "metadata": {},
   "source": [
    "# Sorting Algorithms\n",
    "> Working with Data Structures and manipulating data.\n",
    "\n",
    "- toc: true\n",
    "- categories: [student]\n",
    "- type: pbl\n",
    "- week: 34"
   ]
  },
  {
   "attachments": {},
   "cell_type": "markdown",
   "metadata": {},
   "source": [
    "[wget link](https://raw.githubusercontent.com/nighthawkcoders/APCSP/master/_notebooks/2023-05-15-DS-sorting.ipynb)"
   ]
  },
  {
   "cell_type": "code",
   "execution_count": 1,
   "metadata": {},
   "outputs": [
    {
     "name": "stdout",
     "output_type": "stream",
     "text": [
      "Random List\n",
      "[70, 88, 8, 54, 95, 47, 71, 90, 20, 36]\n"
     ]
    }
   ],
   "source": [
    "import random\n",
    "\n",
    "numbers = []\n",
    "for i in range(10):\n",
    "    numbers.append(random.randint(0,100))\n",
    "print(\"Random List\")\n",
    "print(numbers)"
   ]
  },
  {
   "attachments": {},
   "cell_type": "markdown",
   "metadata": {},
   "source": [
    "# Warm Up\n",
    "\n",
    "> Discuss with a partner... \n",
    "What are some strategies you would use to sort this list? (Don't worry about writing code for now)\n",
    "- You could search for the smallest number, move that to the front, then repeat with the next smallest and the next, until  all the numbers have been moved.\n",
    "- You could also just keep moving them around randomly and check, repeat until in order."
   ]
  },
  {
   "attachments": {},
   "cell_type": "markdown",
   "metadata": {},
   "source": [
    "# Explore\n",
    "\n",
    "Get into groups of 3\n",
    "\n",
    "We will be focusing on 4 algorithms today.\n",
    "\n",
    "We will look at the first one together, Bubble Sort\n",
    "\n",
    "![](images/bubble-sort.png)\n",
    "\n",
    "What is happening with this sort?\n",
    "\n",
    "In your groups you will each choose to be an expert on a sorting algorithm. Merge, Selection, and Insertion.\n",
    "Take about 5 minutes to read about your algorithm and be ready to explain it to your other group members. \n",
    "\n",
    "[Merge](https://www.geeksforgeeks.org/merge-sort/#)\n",
    "\n",
    "[Selection](https://www.geeksforgeeks.org/selection-sort/)\n",
    "\n",
    "[Insertion](https://www.geeksforgeeks.org/insertion-sort/)"
   ]
  },
  {
   "attachments": {},
   "cell_type": "markdown",
   "metadata": {},
   "source": [
    "## Practice\n",
    "\n",
    "[75, 17, 46, 80, 67, 45, 69, 79, 40, 0]\n",
    "\n",
    "How would you sort this list with... \n",
    "- Bubble Sort\n",
    "Compare 75 and 17, 17 is smaller, so they swap, continue on until you get to the largest number and moves it to the end.\n",
    "- Selection Sort\n",
    "Compare 75 and 17, 17 is smaller, so they swap, continue on until you get to the largest number and moves it to the end.\n",
    "> Explain.\n",
    "\n",
    "I would do selection as bubble sort would take a while to move each individual element. Using selection should be faster by moving each piece.\n",
    "\n",
    "[88, 39, 53, 39, 58, 43, 74, 81, 71, 51]\n",
    "\n",
    "How would you sort this list with... \n",
    "- Merge Sort\n",
    "Split into equal groups of 2, then remerges them in which they are sorted.\n",
    "- Insertion Sort\n",
    "Look for the smallest number, 39, and move it to the front, then repeat with next smallest number until it is sorted.\n",
    "> Explain.\n",
    "\n",
    "I would use insertion as merge sort would take longer to split into different sub groups."
   ]
  },
  {
   "attachments": {},
   "cell_type": "markdown",
   "metadata": {},
   "source": [
    "# Sorting Words\n",
    "> Sorting strings works in the same way as integers. Using your expertise algorithm, sort the following list of random words."
   ]
  },
  {
   "cell_type": "code",
   "execution_count": null,
   "metadata": {},
   "outputs": [
    {
     "name": "stdout",
     "output_type": "stream",
     "text": [
      "showing info https://raw.githubusercontent.com/nltk/nltk_data/gh-pages/index.xml\n"
     ]
    },
    {
     "ename": "",
     "evalue": "",
     "output_type": "error",
     "traceback": [
      "\u001b[1;31mCanceled future for execute_request message before replies were done"
     ]
    },
    {
     "ename": "",
     "evalue": "",
     "output_type": "error",
     "traceback": [
      "The Kernel crashed while executing code in the the current cell or a previous cell. Please review the code in the cell(s) to identify a possible cause of the failure. Click <a href='https://aka.ms/vscodeJupyterKernelCrash'>here</a> for more info. View Jupyter <a href='command:jupyter.viewOutput'>log</a> for further details."
     ]
    }
   ],
   "source": [
    "import nltk\n",
    "import random\n",
    "\n",
    "nltk.download(\"words\")  # Download the word list (only required once)\n",
    "\n",
    "from nltk.corpus import words\n",
    "\n",
    "english_words = words.words()\n",
    "# print(len(english_words))  # Prints the number of words in the list\n",
    "\n",
    "# You can now use the 'english_words' list in your code\n",
    "\n",
    "words = []\n",
    "for i in range(10):\n",
    "    words.append(english_words[random.randint(0,len(english_words))])\n",
    "print(\"Random List\")\n",
    "print(words)"
   ]
  },
  {
   "cell_type": "markdown",
   "metadata": {},
   "source": [
    "To sort the words, I would look to see which letter comes first, then move"
   ]
  },
  {
   "attachments": {},
   "cell_type": "markdown",
   "metadata": {},
   "source": [
    "## Discuss \n",
    "Answer the following with your group.\n",
    "\n",
    "- When should you use each algorithm? What makes an algorithm the right choice?\n",
    "- Given the following lists...\n",
    "    - [0, 2, 6, 4, 8, 10]\n",
    "    - Selection sorting as you only need to move one element within the array.\n",
    "    - [Elephant, Banana, Cat, Dog, Apple]\n",
    "    - Selection as you just swap the first and last element.\n",
    "    - [29, 13, 83, 47, 32, 78, 100, 60, 65, 15, 24, 9, 40, 68, 53, 8, 90, 58, 39, 32, 34, 91, 74, 94, 49, 87, 34, 87, 23, 17, 27, 2, 38, 58, 84, 15, 9, 46, 74, 40, 44, 8, 55, 28, 81, 92, 81, 88, 53, 38, 19, 21, 9, 54, 21, 67, 3, 41, 3, 74, 13, 71, 70, 45, 5, 36, 80, 64, 97, 86, 73, 74, 94, 79, 49, 32, 20, 68, 64, 69, 1, 77, 31, 56, 100, 80, 48, 75, 85, 93, 67, 57, 26, 56, 43, 53, 59, 28, 67, 50]\n",
    "    - Merge sort as it is a large list so the time complexity of merge sort woul be useful here.\n",
    "Select the algorithm you believe is best for each, explain."
   ]
  },
  {
   "cell_type": "code",
   "execution_count": 1,
   "metadata": {},
   "outputs": [
    {
     "name": "stdout",
     "output_type": "stream",
     "text": [
      "Original\n",
      "[{'name': 'Risa', 'age': 18, 'city': 'New York'}, {'name': 'John', 'age': 63, 'city': 'Eugene'}, {'name': 'Shekar', 'age': 18, 'city': 'San Francisco'}, {'name': 'Ryan', 'age': 21, 'city': 'Los Angeles'}]\n",
      "name\n",
      "[{'name': 'John', 'age': 63, 'city': 'Eugene'}, {'name': 'Risa', 'age': 18, 'city': 'New York'}, {'name': 'Ryan', 'age': 21, 'city': 'Los Angeles'}, {'name': 'Shekar', 'age': 18, 'city': 'San Francisco'}]\n",
      "age\n",
      "[{'name': 'Risa', 'age': 18, 'city': 'New York'}, {'name': 'Shekar', 'age': 18, 'city': 'San Francisco'}, {'name': 'Ryan', 'age': 21, 'city': 'Los Angeles'}, {'name': 'John', 'age': 63, 'city': 'Eugene'}]\n",
      "city\n",
      "[{'name': 'John', 'age': 63, 'city': 'Eugene'}, {'name': 'Ryan', 'age': 21, 'city': 'Los Angeles'}, {'name': 'Risa', 'age': 18, 'city': 'New York'}, {'name': 'Shekar', 'age': 18, 'city': 'San Francisco'}]\n"
     ]
    }
   ],
   "source": [
    "\"\"\"\n",
    "* Creator: Nighthawk Coding Society\n",
    "Bubble Sort of a List with optimizations\n",
    "\"\"\"\n",
    "\n",
    "# bubble sorts a list of dictionaries, base off of provided key\n",
    "def bubbleSort(list, key):\n",
    "    n = len(list) - 1  # list are indexed 0 to n-1, len is n\n",
    "    \n",
    "    # Traverse through list with i index\n",
    "    for i in range(n):\n",
    "        swapped = False  # optimize code, so it exits if now swaps on inner loop\n",
    "\n",
    "        # Inner traversal using j index\n",
    "        for j in range(n-i):  # n-i as positions on right are in order in bubble\n",
    " \n",
    "            # Swap if the element KeyN is greater KeyN1\n",
    "            keyN = list[j].get(key)\n",
    "            keyN1 = list[j+1].get(key)\n",
    "            if keyN > keyN1:\n",
    "                swapped = True\n",
    "                list[j], list[j + 1] = list[j + 1], list[j]  # single line swap\n",
    "         \n",
    "        if not swapped:  # if no swaps on inner pass, list is sorted\n",
    "            return  # exit function\n",
    "    \n",
    "\n",
    "if __name__ == \"__main__\":\n",
    "    # list/dictionary sample\n",
    "    list_of_people = [\n",
    "    {\"name\": \"Risa\", \"age\": 18, \"city\": \"New York\"},\n",
    "    {\"name\": \"John\", \"age\": 63, \"city\": \"Eugene\"},\n",
    "    {\"name\": \"Shekar\", \"age\": 18, \"city\": \"San Francisco\"},\n",
    "    {\"name\": \"Ryan\", \"age\": 21, \"city\": \"Los Angeles\"}\n",
    "    ]\n",
    "    \n",
    "    # assuming uniform keys, pick 1st row as source of keys\n",
    "    key_row = list_of_people[0]\n",
    "\n",
    "    # print list as defined\n",
    "    print(\"Original\")\n",
    "    print(list_of_people)\n",
    "    \n",
    "    for key in key_row:  # finds each key in the row\n",
    "        print(key)\n",
    "        bubbleSort(list_of_people, key)  # sort list of people\n",
    "        print(list_of_people)"
   ]
  },
  {
   "cell_type": "code",
   "execution_count": 7,
   "metadata": {},
   "outputs": [
    {
     "name": "stdout",
     "output_type": "stream",
     "text": [
      "Given array is\n",
      "5 1 421 43 532 54 6 3 2 1 431 321 54 6 8 4 3 543 43 2 \n",
      "Sorted array is: \n",
      "1 1 2 2 3 3 4 5 6 6 8 43 43 54 54 321 421 431 532 543 \n"
     ]
    }
   ],
   "source": [
    "# Python program for implementation of MergeSort\n",
    "arr = [5, 1, 421, 43, 532,54,6,3,2,1,431,321,54,6,8,4,3,543,43,2]\n",
    "\n",
    "def mergeSort(arr):\n",
    "\tif len(arr) > 1:\n",
    "\n",
    "\t\t# Finding the mid of the array\n",
    "\t\tmid = len(arr)//2\n",
    "\n",
    "\t\t# Dividing the array elements\n",
    "\t\tL = arr[:mid]\n",
    "\n",
    "\t\t# into 2 halves\n",
    "\t\tR = arr[mid:]\n",
    "\n",
    "\t\t# Sorting the first half\n",
    "\t\tmergeSort(L)\n",
    "\n",
    "\t\t# Sorting the second half\n",
    "\t\tmergeSort(R)\n",
    "\n",
    "\t\ti = j = k = 0\n",
    "\n",
    "\t\t# Copy data to temp arrays L[] and R[]\n",
    "\t\twhile i < len(L) and j < len(R):\n",
    "\t\t\tif L[i] <= R[j]:\n",
    "\t\t\t\tarr[k] = L[i]\n",
    "\t\t\t\ti += 1\n",
    "\t\t\telse:\n",
    "\t\t\t\tarr[k] = R[j]\n",
    "\t\t\t\tj += 1\n",
    "\t\t\tk += 1\n",
    "\n",
    "\t\t# Checking if any element was left\n",
    "\t\twhile i < len(L):\n",
    "\t\t\tarr[k] = L[i]\n",
    "\t\t\ti += 1\n",
    "\t\t\tk += 1\n",
    "\n",
    "\t\twhile j < len(R):\n",
    "\t\t\tarr[k] = R[j]\n",
    "\t\t\tj += 1\n",
    "\t\t\tk += 1\n",
    "\n",
    "# Code to print the list\n",
    "\n",
    "\n",
    "def printList(arr):\n",
    "\tfor i in range(len(arr)):\n",
    "\t\tprint(arr[i], end=\" \")\n",
    "\tprint()\n",
    "\n",
    "\n",
    "# Driver Code\n",
    "if __name__ == '__main__':\n",
    "\tprint(\"Given array is\", end=\"\\n\")\n",
    "\tprintList(arr)\n",
    "\tmergeSort(arr)\n",
    "\tprint(\"Sorted array is: \", end=\"\\n\")\n",
    "\tprintList(arr)\n",
    "\n",
    "# This code is contributed by Mayank Khanna\n"
   ]
  },
  {
   "attachments": {},
   "cell_type": "markdown",
   "metadata": {},
   "source": [
    "## HACKS\n",
    "> Provided below is a Bubble Sort Algorithm sorting a list of dictionaries based off of selected key.\n",
    "\n",
    "- Now it's time to do some coding...\n",
    "\n",
    "- Run code and then research and answer these questions...\n",
    "    - Is a list and/or dictionary in python considered a primitive or collection type?  Why?\n",
    "    Lists and dictionaries are both considered to be collection types. Primitive types are like setting x=10, but dictionaries and lists store more complex values making them collection types.\n",
    "    - Is the list passed into bubble sort \"pass-by-value\" or \"pass-by-reference? Describe why in relation to output.\n",
    "    Passed by reference because the reference values are used within the function. For example, when we sort a list using pass-by-reference, if we display the results outside the function, it remains sorted. But if we used pass-by-pass, outside of te function, it would not be sorted.\n",
    "\n",
    "\n",
    "- Implement new cell(s) and/or organize cells to do the following.\n",
    "    - Create your own list\n",
    "    - Use your expertise sorting algorithm (selection, insertion, merge). Note, I got my bubble sort from Geek for Geeks and made modifications. Each student in a group should have a unique algorithm.\n",
    "    - Test your list with my bubble sort\n",
    "    - Test my list with your new sort, do NOT make a copy my list when doing this\n",
    "    - Research analysis on sorting: comparisons, swaps, time.  Build this into your hacks.\n",
    "    - Find a better way to print the data, key first, then other elements in viewable form.\n",
    "\n",
    "Use the code below to help guide your adventure"
   ]
  },
  {
   "cell_type": "code",
   "execution_count": 2,
   "metadata": {},
   "outputs": [
    {
     "name": "stdout",
     "output_type": "stream",
     "text": [
      "[1, 1, 2, 2, 3, 3, 4, 5, 6, 6, 8, 43, 43, 54, 54, 321, 421, 431, 532, 543]\n"
     ]
    }
   ],
   "source": [
    "def merge_sort(arr):\n",
    "    if len(arr) <= 1:\n",
    "        return arr\n",
    "    \n",
    "    mid = len(arr) // 2\n",
    "    left_half = arr[:mid]\n",
    "    right_half = arr[mid:]\n",
    "    \n",
    "    left_half = merge_sort(left_half)\n",
    "    right_half = merge_sort(right_half)\n",
    "    \n",
    "    return merge(left_half, right_half)\n",
    "\n",
    "\n",
    "def merge(left, right):\n",
    "    merged = []\n",
    "    left_index = 0\n",
    "    right_index = 0\n",
    "    \n",
    "    while left_index < len(left) and right_index < len(right):\n",
    "        if left[left_index] < right[right_index]:\n",
    "            merged.append(left[left_index])\n",
    "            left_index += 1\n",
    "        else:\n",
    "            merged.append(right[right_index])\n",
    "            right_index += 1\n",
    "    \n",
    "    while left_index < len(left):\n",
    "        merged.append(left[left_index])\n",
    "        left_index += 1\n",
    "    \n",
    "    while right_index < len(right):\n",
    "        merged.append(right[right_index])\n",
    "        right_index += 1\n",
    "    \n",
    "    return merged\n",
    "\n",
    "\n",
    "arr = [5, 1, 421, 43, 532, 54, 6, 3, 2, 1, 431, 321, 54, 6, 8, 4, 3, 543, 43, 2]\n",
    "sorted_arr = merge_sort(arr)\n",
    "print(sorted_arr)\n"
   ]
  },
  {
   "cell_type": "code",
   "execution_count": 4,
   "metadata": {},
   "outputs": [
    {
     "name": "stdout",
     "output_type": "stream",
     "text": [
      "Sorted by name:\n",
      "Name: Arteen, Car: Audi A4, Top Speed: 150\n",
      "Name: Azeem, Car: Nissan Leaf, Top Speed: 308\n",
      "Name: Nathan, Car: BMW 228i, Top Speed: 135\n",
      "\n",
      "Sorted by car:\n",
      "Name: Arteen, Car: Audi A4, Top Speed: 150\n",
      "Name: Nathan, Car: BMW 228i, Top Speed: 135\n",
      "Name: Azeem, Car: Nissan Leaf, Top Speed: 308\n",
      "\n",
      "Sorted by top speed:\n",
      "Name: Nathan, Car: BMW 228i, Top Speed: 135\n",
      "Name: Arteen, Car: Audi A4, Top Speed: 150\n",
      "Name: Azeem, Car: Nissan Leaf, Top Speed: 308\n"
     ]
    }
   ],
   "source": [
    "def merge_sort_racers(racers, key):\n",
    "    if len(racers) <= 1:\n",
    "        return racers\n",
    "    \n",
    "    mid = len(racers) // 2\n",
    "    left_half = racers[:mid]\n",
    "    right_half = racers[mid:]\n",
    "    \n",
    "    left_half = merge_sort_racers(left_half, key)\n",
    "    right_half = merge_sort_racers(right_half, key)\n",
    "    \n",
    "    return merge_racers(left_half, right_half, key)\n",
    "\n",
    "\n",
    "def merge_racers(left, right, key):\n",
    "    merged = []\n",
    "    left_index = 0\n",
    "    right_index = 0\n",
    "    \n",
    "    while left_index < len(left) and right_index < len(right):\n",
    "        if left[left_index][key] < right[right_index][key]:\n",
    "            merged.append(left[left_index])\n",
    "            left_index += 1\n",
    "        else:\n",
    "            merged.append(right[right_index])\n",
    "            right_index += 1\n",
    "    \n",
    "    while left_index < len(left):\n",
    "        merged.append(left[left_index])\n",
    "        left_index += 1\n",
    "    \n",
    "    while right_index < len(right):\n",
    "        merged.append(right[right_index])\n",
    "        right_index += 1\n",
    "    \n",
    "    return merged\n",
    "\n",
    "\n",
    "list_of_racers = [\n",
    "    {\"name\": \"Nathan\", \"car\": \"BMW 228i\", \"top_speed\": \"135\"},\n",
    "    {\"name\": \"Azeem\", \"car\": \"Nissan Leaf\", \"top_speed\": \"308\"},\n",
    "    {\"name\": \"Arteen\", \"car\": \"Audi A4\", \"top_speed\": \"150\"},\n",
    "]\n",
    "\n",
    "# Sort by name\n",
    "sorted_racers_name = merge_sort_racers(list_of_racers, \"name\")\n",
    "print(\"Sorted by name:\")\n",
    "for racer in sorted_racers_name:\n",
    "    print(f\"Name: {racer['name']}, Car: {racer['car']}, Top Speed: {racer['top_speed']}\")\n",
    "\n",
    "# Sort by car\n",
    "sorted_racers_car = merge_sort_racers(list_of_racers, \"car\")\n",
    "print(\"\\nSorted by car:\")\n",
    "for racer in sorted_racers_car:\n",
    "    print(f\"Name: {racer['name']}, Car: {racer['car']}, Top Speed: {racer['top_speed']}\")\n",
    "\n",
    "# Sort by top speed\n",
    "sorted_racers_speed = merge_sort_racers(list_of_racers, \"top_speed\")\n",
    "print(\"\\nSorted by top speed:\")\n",
    "for racer in sorted_racers_speed:\n",
    "    print(f\"Name: {racer['name']}, Car: {racer['car']}, Top Speed: {racer['top_speed']}\")\n"
   ]
  }
 ],
 "metadata": {
  "kernelspec": {
   "display_name": "Python 3.11.2 64-bit",
   "language": "python",
   "name": "python3"
  },
  "language_info": {
   "codemirror_mode": {
    "name": "ipython",
    "version": 3
   },
   "file_extension": ".py",
   "mimetype": "text/x-python",
   "name": "python",
   "nbconvert_exporter": "python",
   "pygments_lexer": "ipython3",
   "version": "3.11.2"
  },
  "orig_nbformat": 4,
  "vscode": {
   "interpreter": {
    "hash": "aee8b7b246df8f9039afb4144a1f6fd8d2ca17a180786b69acc140d282b71a49"
   }
  }
 },
 "nbformat": 4,
 "nbformat_minor": 2
}
