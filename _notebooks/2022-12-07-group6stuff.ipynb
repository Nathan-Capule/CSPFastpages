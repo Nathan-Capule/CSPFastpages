{
 "cells": [
  {
   "cell_type": "markdown",
   "metadata": {},
   "source": [
    "# Unit 3.9 & 3.11 Notes and Hacks\n",
    "- toc: true\n",
    "- badges: true\n",
    "- categories: [Week 15]"
   ]
  },
  {
   "cell_type": "markdown",
   "metadata": {},
   "source": [
    "## Notes\n",
    "* The three components of an algorithm are selection, sequences, and iterations.\n",
    "### 3.9.1\n",
    "* Algorithms can be written in different ways yet still work in teh same way.\n",
    "* The flaw on the second code is that there is no \"or equal to\" sign for 70 so if someone has a grade of 70, nothing would print.\n",
    "* When two algorithms look similar, it does not mean that they do the same exact thing\n",
    "* Notes can help your future self to search for any bugs\n",
    "### 3.9.2\n",
    "* When creating an algorithm, it is good to outline the process before coding.\n",
    "* Represent the code with a flowchart to help planning which makes the coding process more efficient.\n",
    "* Selection chooses from different options\n",
    "### 3.9.3\n",
    "* It is important to use pre-existing algorithms as it can oftentimes make your life easier\n",
    "### 3.11\n",
    "* Binary search divides a search interval in half\n",
    "* Binary search needs to put the numbers in order\n",
    "* Then it needs to find the middle number\n",
    "* Lists can be made with strings\n",
    "* You can show binary search with a binary tree"
   ]
  },
  {
   "cell_type": "markdown",
   "metadata": {},
   "source": [
    "## 3.9.1 Hacks\n",
    "why is it important to know that algorithms that look different can do the same thing and that algorithms that look the same might have different results?(0.15)\n",
    "It is important to know this because knowing that we can write code in different ways could save time through shortening certain parts of code. It is also important to know that different results can occur from similar code if we shift the parameters even slightly, such as removing an \"or equal to\" sign or shifting a number up or down.\n",
    "\n",
    "### Converted Conditional to Boolean Stuff:"
   ]
  },
  {
   "cell_type": "code",
   "execution_count": 1,
   "metadata": {},
   "outputs": [
    {
     "name": "stdout",
     "output_type": "stream",
     "text": [
      "You have a gray sedan\n"
     ]
    }
   ],
   "source": [
    "# setting variables here\n",
    "CarColor = \"Gray\"\n",
    "BodyStyle = \"Sedan\"\n",
    "\n",
    "if CarColor == \"Gray\":\n",
    "    if BodyStyle == \"Sedan\":\n",
    "        print('You have a gray sedan')\n",
    "    if BodyStyle != \"Sedan\":\n",
    "        print('You have a gray car, but its not a sedan')\n",
    "\n",
    "else:\n",
    "    if BodyStyle == \"Sedan\":\n",
    "        print(\"You have a sedan, but its not gray\")\n",
    "    if BodyStyle != \"Sedan\":\n",
    "        print(\"Idk what car you have \")"
   ]
  },
  {
   "cell_type": "code",
   "execution_count": 3,
   "metadata": {},
   "outputs": [
    {
     "name": "stdout",
     "output_type": "stream",
     "text": [
      "you have a gray sedan\n"
     ]
    }
   ],
   "source": [
    "# setting variables here\n",
    "gray = True\n",
    "sedan = True\n",
    "\n",
    "CarColor = gray\n",
    "BodyStyle = sedan\n",
    "\n",
    "carColorStyle = CarColor and BodyStyle\n",
    "if carColorStyle == True:\n",
    "    print(\"you have a gray sedan\")\n",
    "if carColorStyle == False:\n",
    "    print(\"You do not have a gray sedan\")\n"
   ]
  },
  {
   "cell_type": "markdown",
   "metadata": {},
   "source": [
    "What I learned from this: I learned that nesting conditionals can shorten code as well as organize it better, this can also then be extracted from a flowchart which allows usage of this in the real world. Something that I could have improved on from the code is adding notes so that anyone else can tell what I am accomplishing."
   ]
  },
  {
   "cell_type": "markdown",
   "metadata": {},
   "source": [
    "## 3.9.2 Hacks\n",
    "[Link to flowchart cus it doesn't show apparently](https://docs.google.com/drawings/d/1eT_WODc92R7jctunXP9nVmoS0YldwMQU6ihOzynsEYE/edit?usp=sharing)"
   ]
  },
  {
   "cell_type": "code",
   "execution_count": 12,
   "metadata": {},
   "outputs": [
    {
     "name": "stdout",
     "output_type": "stream",
     "text": [
      "gate 1 is not gate 5, obviously\n",
      "gate 2 is not gate 5, obviously\n",
      "gate 3 is not gate 5, obviously\n",
      "gate 4 is not gate 5, obviously\n",
      "gate 5 is not gate 5, obviously\n",
      "This is gate 5\n"
     ]
    }
   ],
   "source": [
    "gate = 5\n",
    "i = 0\n",
    "while (i >= 0):\n",
    "    if i == gate:\n",
    "        print(\"This is gate 5\")\n",
    "        break\n",
    "    else:\n",
    "        i = i+1\n",
    "        print(\"gate \" + str(i) + \" is not gate 5, obviously\")"
   ]
  },
  {
   "cell_type": "markdown",
   "metadata": {},
   "source": [
    "## 3.9.3 Hacks"
   ]
  },
  {
   "cell_type": "code",
   "execution_count": 41,
   "metadata": {},
   "outputs": [
    {
     "name": "stdout",
     "output_type": "stream",
     "text": [
      "40\n",
      "20.0\n",
      "10.0\n",
      "5.0\n",
      "16.0\n",
      "8.0\n",
      "4.0\n",
      "2.0\n",
      "1.0\n",
      "it is now number 1\n"
     ]
    }
   ],
   "source": [
    "num = 13\n",
    "\n",
    "while (num != 1):\n",
    "    if num % 2 == 0:\n",
    "            num = num / 2\n",
    "            print(num)\n",
    "    else:\n",
    "        if num != 1:\n",
    "            num = num * 3 + 1\n",
    "            print(num)\n",
    "else:\n",
    "    print(\"it is now number 1\")"
   ]
  },
  {
   "cell_type": "markdown",
   "metadata": {},
   "source": [
    "[The flowchart is here](https://docs.google.com/drawings/d/1TZzAnHZKokfiZbIRr7SvFtQVZAn-R6bFRH2nz7VCXK4/edit?usp=sharing)"
   ]
  },
  {
   "cell_type": "code",
   "execution_count": 42,
   "metadata": {},
   "outputs": [
    {
     "name": "stdout",
     "output_type": "stream",
     "text": [
      "I'm thinking of a number between 1 and 100.\n",
      "You guessed 0.\n",
      "Too low, try again! I TOTALLY BELIVE IN YOU\n",
      "Guess a number between 0 and 100.\n",
      "You guessed 1.\n",
      "Too low, try again! I TOTALLY BELIVE IN YOU\n",
      "Guess a number between 1 and 100.\n",
      "You guessed 2.\n",
      "Too low, try again! I TOTALLY BELIVE IN YOU\n",
      "Guess a number between 2 and 100.\n",
      "You guessed 3.\n",
      "Too low, try again! I TOTALLY BELIVE IN YOU\n",
      "Guess a number between 3 and 100.\n",
      "You guessed 4.\n",
      "Too low, try again! I TOTALLY BELIVE IN YOU\n",
      "Guess a number between 4 and 100.\n",
      "You guessed 5.\n",
      "Too low, try again! I TOTALLY BELIVE IN YOU\n",
      "Guess a number between 5 and 100.\n",
      "You guessed 6.\n",
      "Too low, try again! I TOTALLY BELIVE IN YOU\n",
      "Guess a number between 6 and 100.\n",
      "You guessed 7.\n",
      "Too low, try again! I TOTALLY BELIVE IN YOU\n",
      "Guess a number between 7 and 100.\n",
      "You guessed 8.\n",
      "Too low, try again! I TOTALLY BELIVE IN YOU\n",
      "Guess a number between 8 and 100.\n",
      "You guessed 9.\n",
      "Too low, try again! I TOTALLY BELIVE IN YOU\n",
      "Guess a number between 9 and 100.\n",
      "You guessed 10.\n",
      "Too low, try again! I TOTALLY BELIVE IN YOU\n",
      "Guess a number between 10 and 100.\n",
      "You guessed 11.\n",
      "Too low, try again! I TOTALLY BELIVE IN YOU\n",
      "Guess a number between 11 and 100.\n",
      "You guessed 12.\n",
      "Too low, try again! I TOTALLY BELIVE IN YOU\n",
      "Guess a number between 12 and 100.\n",
      "You guessed 13.\n",
      "Too low, try again! I TOTALLY BELIVE IN YOU\n",
      "Guess a number between 13 and 100.\n",
      "You guessed 14.\n",
      "Too low, try again! I TOTALLY BELIVE IN YOU\n",
      "Guess a number between 14 and 100.\n",
      "You guessed 15.\n",
      "Too low, try again! I TOTALLY BELIVE IN YOU\n",
      "Guess a number between 15 and 100.\n",
      "You guessed 16.\n",
      "Too low, try again! I TOTALLY BELIVE IN YOU\n",
      "Guess a number between 16 and 100.\n",
      "You guessed 17.\n",
      "Too low, try again! I TOTALLY BELIVE IN YOU\n",
      "Guess a number between 17 and 100.\n",
      "You guessed 18.\n",
      "Too low, try again! I TOTALLY BELIVE IN YOU\n",
      "Guess a number between 18 and 100.\n",
      "You guessed 19.\n",
      "Too low, try again! I TOTALLY BELIVE IN YOU\n",
      "Guess a number between 19 and 100.\n",
      "You guessed 20.\n",
      "Too low, try again! I TOTALLY BELIVE IN YOU\n",
      "Guess a number between 20 and 100.\n",
      "You guessed 21.\n",
      "Too low, try again! I TOTALLY BELIVE IN YOU\n",
      "Guess a number between 21 and 100.\n",
      "You guessed 22.\n",
      "Too low, try again! I TOTALLY BELIVE IN YOU\n",
      "Guess a number between 22 and 100.\n",
      "You guessed 23.\n",
      "Too low, try again! I TOTALLY BELIVE IN YOU\n",
      "Guess a number between 23 and 100.\n",
      "You guessed 24.\n",
      "Too low, try again! I TOTALLY BELIVE IN YOU\n",
      "Guess a number between 24 and 100.\n",
      "You guessed 25.\n",
      "Too low, try again! I TOTALLY BELIVE IN YOU\n",
      "Guess a number between 25 and 100.\n",
      "You guessed 26.\n",
      "Too low, try again! I TOTALLY BELIVE IN YOU\n",
      "Guess a number between 26 and 100.\n",
      "You guessed 27.\n",
      "Too low, try again! I TOTALLY BELIVE IN YOU\n",
      "Guess a number between 27 and 100.\n",
      "You guessed 28.\n",
      "Too low, try again! I TOTALLY BELIVE IN YOU\n",
      "Guess a number between 28 and 100.\n",
      "You guessed 29.\n",
      "Too low, try again! I TOTALLY BELIVE IN YOU\n",
      "Guess a number between 29 and 100.\n",
      "You guessed 30.\n",
      "Too low, try again! I TOTALLY BELIVE IN YOU\n",
      "Guess a number between 30 and 100.\n",
      "You guessed 31.\n",
      "Too low, try again! I TOTALLY BELIVE IN YOU\n",
      "Guess a number between 31 and 100.\n",
      "You guessed 32.\n",
      "Too low, try again! I TOTALLY BELIVE IN YOU\n",
      "Guess a number between 32 and 100.\n",
      "You guessed 33.\n",
      "Too low, try again! I TOTALLY BELIVE IN YOU\n",
      "Guess a number between 33 and 100.\n",
      "You guessed 34.\n",
      "Too low, try again! I TOTALLY BELIVE IN YOU\n",
      "Guess a number between 34 and 100.\n",
      "You guessed 35.\n",
      "Too low, try again! I TOTALLY BELIVE IN YOU\n",
      "Guess a number between 35 and 100.\n",
      "You guessed 36.\n",
      "Too low, try again! I TOTALLY BELIVE IN YOU\n",
      "Guess a number between 36 and 100.\n",
      "You guessed 37.\n",
      "Too low, try again! I TOTALLY BELIVE IN YOU\n",
      "Guess a number between 37 and 100.\n",
      "You guessed 38.\n",
      "Too low, try again! I TOTALLY BELIVE IN YOU\n",
      "Guess a number between 38 and 100.\n",
      "You guessed 39.\n",
      "Too low, try again! I TOTALLY BELIVE IN YOU\n",
      "Guess a number between 39 and 100.\n",
      "You guessed 40.\n",
      "Too low, try again! I TOTALLY BELIVE IN YOU\n",
      "Guess a number between 40 and 100.\n",
      "You guessed 41.\n",
      "Too low, try again! I TOTALLY BELIVE IN YOU\n",
      "Guess a number between 41 and 100.\n",
      "You guessed 42.\n",
      "Too low, try again! I TOTALLY BELIVE IN YOU\n",
      "Guess a number between 42 and 100.\n",
      "You guessed 43.\n",
      "Too low, try again! I TOTALLY BELIVE IN YOU\n",
      "Guess a number between 43 and 100.\n",
      "You guessed 44.\n",
      "Too low, try again! I TOTALLY BELIVE IN YOU\n",
      "Guess a number between 44 and 100.\n",
      "You guessed 45.\n",
      "Too low, try again! I TOTALLY BELIVE IN YOU\n",
      "Guess a number between 45 and 100.\n",
      "You guessed 46.\n",
      "Too low, try again! I TOTALLY BELIVE IN YOU\n",
      "Guess a number between 46 and 100.\n",
      "You guessed 47.\n",
      "Too low, try again! I TOTALLY BELIVE IN YOU\n",
      "Guess a number between 47 and 100.\n",
      "You guessed 48.\n",
      "Too low, try again! I TOTALLY BELIVE IN YOU\n",
      "Guess a number between 48 and 100.\n",
      "You guessed 49.\n",
      "Too low, try again! I TOTALLY BELIVE IN YOU\n",
      "Guess a number between 49 and 100.\n",
      "You guessed 50.\n",
      "Too low, try again! I TOTALLY BELIVE IN YOU\n",
      "Guess a number between 50 and 100.\n",
      "You guessed 51.\n",
      "Too low, try again! I TOTALLY BELIVE IN YOU\n",
      "Guess a number between 51 and 100.\n",
      "You guessed 52.\n",
      "Too low, try again! I TOTALLY BELIVE IN YOU\n",
      "Guess a number between 52 and 100.\n",
      "You guessed 53.\n",
      "Too low, try again! I TOTALLY BELIVE IN YOU\n",
      "Guess a number between 53 and 100.\n",
      "You guessed 54.\n",
      "Too low, try again! I TOTALLY BELIVE IN YOU\n",
      "Guess a number between 54 and 100.\n",
      "You guessed 55.\n",
      "Too low, try again! I TOTALLY BELIVE IN YOU\n",
      "Guess a number between 55 and 100.\n",
      "You guessed 56.\n",
      "Too low, try again! I TOTALLY BELIVE IN YOU\n",
      "Guess a number between 56 and 100.\n",
      "You guessed 57.\n",
      "Too low, try again! I TOTALLY BELIVE IN YOU\n",
      "Guess a number between 57 and 100.\n",
      "You guessed 58.\n",
      "You guessed the number in 59 guesses!\n"
     ]
    }
   ],
   "source": [
    "import random\n",
    "\n",
    "#sets variables for the game\n",
    "num_guesses = 0\n",
    "user_guess = -1\n",
    "upper_bound = 100\n",
    "lower_bound = 0\n",
    "\n",
    "#generates a random number\n",
    "number = random.randint(1,100)\n",
    "\n",
    "# print(number)     #for testing purposes\n",
    "\n",
    "print(f\"I'm thinking of a number between 1 and 100.\")\n",
    "\n",
    "#Write a function that gets a guess from the user using input()\n",
    "def guess():\n",
    "    number = input(\"guess\")\n",
    "    #add something here\n",
    "    return number #add something here \n",
    "\n",
    "#Change the print statements to give feedback on whether the player guessed too high or too low\n",
    "def search(number, guess):\n",
    "    global lower_bound, upper_bound\n",
    "    if int(guess) < int(number):\n",
    "        print(\"Too low, try again! I TOTALLY BELIVE IN YOU\") #change this\n",
    "        lower_bound = guess\n",
    "        return lower_bound, upper_bound\n",
    "    elif int(guess) > int(number):\n",
    "        print(\"Too high, try again! I TOTALLY BELIVE IN YOU\") #change this\n",
    "        upper_bound = guess\n",
    "        return lower_bound, upper_bound\n",
    "    else:\n",
    "        upper_bound, lower_bound = guess, guess\n",
    "        return lower_bound, upper_bound \n",
    "\n",
    "while user_guess != number:\n",
    "    user_guess = guess()\n",
    "    num_guesses += 1\n",
    "    print(f\"You guessed {user_guess}.\")\n",
    "    lower_bound, upper_bound = search(number, user_guess)\n",
    "    if int(upper_bound) == int(number):\n",
    "        break\n",
    "    else:\n",
    "        print(f\"Guess a number between {lower_bound} and {upper_bound}.\")\n",
    "\n",
    "print(f\"You guessed the number in {num_guesses} guesses!\")"
   ]
  },
  {
   "cell_type": "markdown",
   "metadata": {},
   "source": [
    "## 3.9.3 Hacks\n",
    "1. calculate the middle index and create a binary tree for each of these lists\n",
    "    - 12, 14, 43, 57, 79, 80, 99\n",
    "    - 92, 43, 74, 66, 30, 12, 1\n",
    "    - 7, 13, 96, 111, 33, 84, 60\n"
   ]
  },
  {
   "cell_type": "code",
   "execution_count": 43,
   "metadata": {},
   "outputs": [
    {
     "name": "stdout",
     "output_type": "stream",
     "text": [
      "The middle indices are 57\n",
      "The middle indices are 43\n",
      "The middle indices are 60\n"
     ]
    }
   ],
   "source": [
    "listOne = [12,14,44,57,79,80,99]\n",
    "listTwo = [92,43,74,66,30,12,1]\n",
    "listThree = [7,13,96,111,33,84,60]\n",
    "numLists = [listOne, listTwo, listThree]\n",
    "for x in range(len(numLists)):\n",
    "    numLists[x].sort()\n",
    "    middle = int(len(numLists[x])/2)\n",
    "    print(\"The middle indices are\",numLists[x][middle])"
   ]
  },
  {
   "cell_type": "markdown",
   "metadata": {},
   "source": [
    "2. Using one of the sets of numbers from the question above, what would be the second number looked at in a binary search if the number is more than the middle number?\n",
    "For the first list, the next number would be 80, for the second list the next number would be 74, and for the third list, the next number looked at would be 96.\n",
    "3. Which of the following lists can NOT a binary search be used in order to find a targeted value?\n",
    "\n",
    "    a. [\"amy\", \"beverly\", \"christian\", \"devin\"]\n",
    "\n",
    "    b. [-1, 2, 6, 9, 19]\n",
    "\n",
    "    ### c. [3, 2, 8, 12, 99] Because it is not sorted in order.\n",
    "    \n",
    "    d. [\"xylophone\", \"snowman\", \"snake\", \"doorbell\", \"author\"]"
   ]
  },
  {
   "cell_type": "markdown",
   "metadata": {},
   "source": [
    "## What I have learned and how I can apply this in the future\n",
    "I have learned that making flowcharts is actually very useful when coding as it can save time. This is because it can help you to form an outline for your code an lowers your chances of any human errors in coding."
   ]
  }
 ],
 "metadata": {
  "kernelspec": {
   "display_name": "Python 3.10.6 64-bit",
   "language": "python",
   "name": "python3"
  },
  "language_info": {
   "codemirror_mode": {
    "name": "ipython",
    "version": 3
   },
   "file_extension": ".py",
   "mimetype": "text/x-python",
   "name": "python",
   "nbconvert_exporter": "python",
   "pygments_lexer": "ipython3",
   "version": "3.10.6"
  },
  "orig_nbformat": 4,
  "vscode": {
   "interpreter": {
    "hash": "aee8b7b246df8f9039afb4144a1f6fd8d2ca17a180786b69acc140d282b71a49"
   }
  }
 },
 "nbformat": 4,
 "nbformat_minor": 2
}
