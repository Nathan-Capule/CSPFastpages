{
 "cells": [
  {
   "cell_type": "markdown",
   "metadata": {},
   "source": [
    "# Unit 3.9 & 3.11 Notes and Hacks\n",
    "- toc: true\n",
    "- badges: true\n",
    "- categories: [Week 15]"
   ]
  },
  {
   "cell_type": "markdown",
   "metadata": {},
   "source": [
    "## Notes\n",
    "* The three components of an algorithm are selection, sequences, and iterations.\n",
    "### 3.9.1\n",
    "* Algorithms can be written in different ways yet still work in teh same way.\n",
    "* The flaw on the second code is that there is no \"or equal to\" sign for 70 so if someone has a grade of 70, nothing would print.\n",
    "* When two algorithms look similar, it does not mean that they do the same exact thing\n",
    "* Notes can help your future self to search for any bugs\n",
    "### 3.9.2\n",
    "* When creating an algorithm, it is good to outline the process before coding.\n",
    "* Represent the code with a flowchart to help planning which makes the coding process more efficient.\n",
    "* Selection chooses from different options\n",
    "### 3.9.3\n",
    "* It is important to use pre-existing algorithms as it can oftentimes make your life easier\n",
    "### 3.11\n",
    "* Binary search divides a search interval in half\n",
    "* Binary search needs to put the numbers in order\n",
    "* Then it needs to find the middle number\n",
    "* Lists can be made with strings\n",
    "* You can show binary search with a binary tree"
   ]
  },
  {
   "cell_type": "markdown",
   "metadata": {},
   "source": [
    "## 3.9.1 Hacks\n",
    "why is it important to know that algorithms that look different can do the same thing and that algorithms that look the same might have different results?(0.15)\n",
    "It is important to know this because knowing that we can write code in different ways could save time through shortening certain parts of code. It is also important to know that different results can occur from similar code if we shift the parameters even slightly, such as removing an \"or equal to\" sign or shifting a number up or down.\n",
    "\n",
    "### Converted Conditional to Boolean Stuff:"
   ]
  },
  {
   "cell_type": "code",
   "execution_count": 1,
   "metadata": {},
   "outputs": [
    {
     "name": "stdout",
     "output_type": "stream",
     "text": [
      "You have a gray sedan\n"
     ]
    }
   ],
   "source": [
    "# setting variables here\n",
    "CarColor = \"Gray\"\n",
    "BodyStyle = \"Sedan\"\n",
    "\n",
    "if CarColor == \"Gray\":\n",
    "    if BodyStyle == \"Sedan\":\n",
    "        print('You have a gray sedan')\n",
    "    if BodyStyle != \"Sedan\":\n",
    "        print('You have a gray car, but its not a sedan')\n",
    "\n",
    "else:\n",
    "    if BodyStyle == \"Sedan\":\n",
    "        print(\"You have a sedan, but its not gray\")\n",
    "    if BodyStyle != \"Sedan\":\n",
    "        print(\"Idk what car you have \")"
   ]
  },
  {
   "cell_type": "code",
   "execution_count": 3,
   "metadata": {},
   "outputs": [
    {
     "name": "stdout",
     "output_type": "stream",
     "text": [
      "you have a gray sedan\n"
     ]
    }
   ],
   "source": [
    "# setting variables here\n",
    "gray = True\n",
    "sedan = True\n",
    "\n",
    "CarColor = gray\n",
    "BodyStyle = sedan\n",
    "\n",
    "carColorStyle = CarColor and BodyStyle\n",
    "if carColorStyle == True:\n",
    "    print(\"you have a gray sedan\")\n",
    "if carColorStyle == False:\n",
    "    print(\"You do not have a gray sedan\")\n"
   ]
  },
  {
   "cell_type": "markdown",
   "metadata": {},
   "source": [
    "What I learned from this: I learned that nesting conditionals can shorten code as well as organize it better, this can also then be extracted from a flowchart which allows usage of this in the real world. Something that I could have improved on from the code is adding notes so that anyone else can tell what I am accomplishing."
   ]
  },
  {
   "cell_type": "markdown",
   "metadata": {},
   "source": [
    "## 3.9.2 Hacks\n",
    "[Link to flowchart cus it doesn't show apparently](https://docs.google.com/drawings/d/1eT_WODc92R7jctunXP9nVmoS0YldwMQU6ihOzynsEYE/edit?usp=sharing)"
   ]
  },
  {
   "cell_type": "code",
   "execution_count": 12,
   "metadata": {},
   "outputs": [
    {
     "name": "stdout",
     "output_type": "stream",
     "text": [
      "gate 1 is not gate 5, obviously\n",
      "gate 2 is not gate 5, obviously\n",
      "gate 3 is not gate 5, obviously\n",
      "gate 4 is not gate 5, obviously\n",
      "gate 5 is not gate 5, obviously\n",
      "This is gate 5\n"
     ]
    }
   ],
   "source": [
    "gate = 5\n",
    "i = 0\n",
    "while (i >= 0):\n",
    "    if i == gate:\n",
    "        print(\"This is gate 5\")\n",
    "        break\n",
    "    else:\n",
    "        i = i+1\n",
    "        print(\"gate \" + str(i) + \" is not gate 5, obviously\")"
   ]
  },
  {
   "cell_type": "markdown",
   "metadata": {},
   "source": [
    "## 3.9.3 Hacks"
   ]
  },
  {
   "cell_type": "code",
   "execution_count": 41,
   "metadata": {},
   "outputs": [
    {
     "name": "stdout",
     "output_type": "stream",
     "text": [
      "40\n",
      "20.0\n",
      "10.0\n",
      "5.0\n",
      "16.0\n",
      "8.0\n",
      "4.0\n",
      "2.0\n",
      "1.0\n",
      "it is now number 1\n"
     ]
    }
   ],
   "source": [
    "num = 13\n",
    "\n",
    "while (num != 1):\n",
    "    if num % 2 == 0:\n",
    "            num = num / 2\n",
    "            print(num)\n",
    "    else:\n",
    "        if num != 1:\n",
    "            num = num * 3 + 1\n",
    "            print(num)\n",
    "else:\n",
    "    print(\"it is now number 1\")"
   ]
  }
 ],
 "metadata": {
  "kernelspec": {
   "display_name": "Python 3.10.6 64-bit",
   "language": "python",
   "name": "python3"
  },
  "language_info": {
   "codemirror_mode": {
    "name": "ipython",
    "version": 3
   },
   "file_extension": ".py",
   "mimetype": "text/x-python",
   "name": "python",
   "nbconvert_exporter": "python",
   "pygments_lexer": "ipython3",
   "version": "3.10.6"
  },
  "orig_nbformat": 4,
  "vscode": {
   "interpreter": {
    "hash": "aee8b7b246df8f9039afb4144a1f6fd8d2ca17a180786b69acc140d282b71a49"
   }
  }
 },
 "nbformat": 4,
 "nbformat_minor": 2
}
