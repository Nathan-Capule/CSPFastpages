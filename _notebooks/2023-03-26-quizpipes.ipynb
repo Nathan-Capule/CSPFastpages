{
 "cells": [
  {
   "cell_type": "code",
   "execution_count": 9,
   "metadata": {},
   "outputs": [
    {
     "name": "stdout",
     "output_type": "stream",
     "text": [
      "God Luck! (Answer wit ha letter)\n",
      "Which of the following procedures would rotate the pipe into the correct position?\n",
      "A. Rotate right AND rotate left\n",
      "B. Rotate right OR rotate left\n",
      "C. Rotate right THEN rotate left\n",
      "D. Rotate right x3\n",
      "E. None of these answers\n",
      "Correct!\n",
      "Which of the following procedures would rotate the pipe into the correct position?\n",
      "A. Rotate right AND rotate left\n",
      "B. Rotate right x3 OR rotate left\n",
      "C. Rotate right THEN rotate left\n",
      "D. Rotate right x3\n",
      "E. None of these answers\n",
      "Correct!\n",
      "Your final score is: 2\n"
     ]
    }
   ],
   "source": [
    "print(\"God Luck! (Answer wit ha letter)\")\n",
    "score = 0\n",
    "\n",
    "# Question 1\n",
    "print(\"Which of the following procedures would rotate the pipe into the correct position?\")\n",
    "print(\"A. Rotate right AND rotate left\")\n",
    "print(\"B. Rotate right OR rotate left\")\n",
    "print(\"C. Rotate right THEN rotate left\")\n",
    "print(\"D. Rotate right x3\")\n",
    "print(\"E. None of these answers\")\n",
    "\n",
    "answer1 = input(\"Enter your answer (A, B, C, D, or E): \")\n",
    "if answer1.upper() == \"D\":\n",
    "    print(\"Correct!\")\n",
    "    score += 1\n",
    "elif answer1.upper() == \"B\":\n",
    "    print(\"Correct!\")\n",
    "    score += 1\n",
    "elif answer1.upper() == \"A\":\n",
    "    print(\"wrong\")\n",
    "elif answer1.upper() == \"C\":\n",
    "    print(\"wrong\")\n",
    "elif answer1.upper() == \"E\":\n",
    "    print(\"wrong\")\n",
    "# Question 2\n",
    "print(\"Which of the following procedures would rotate the pipe into the correct position?\")\n",
    "print(\"A. Rotate right AND rotate left\")\n",
    "print(\"B. Rotate right x3 OR rotate left\")\n",
    "print(\"C. Rotate right THEN rotate left\")\n",
    "print(\"D. Rotate right x3\")\n",
    "print(\"E. None of these answers\")\n",
    "\n",
    "answer2 = input(\"Enter your answer (A, B, C, D, or E): \")\n",
    "if answer1.upper() == \"D\":\n",
    "    print(\"Correct!\")\n",
    "    score += 1\n",
    "elif answer1.upper() == \"B\":\n",
    "    print(\"Correct!\")\n",
    "    score += 1\n",
    "elif answer1.upper() == \"A\":\n",
    "    print(\"wrong\")\n",
    "elif answer1.upper() == \"C\":\n",
    "    print(\"wrong\")\n",
    "elif answer1.upper() == \"E\":\n",
    "    print(\"wrong\")\n",
    "\n",
    "# End of quiz\n",
    "print(\"Your final score is: \" + str(score))\n"
   ]
  }
 ],
 "metadata": {
  "kernelspec": {
   "display_name": "Python 3.11.2 64-bit",
   "language": "python",
   "name": "python3"
  },
  "language_info": {
   "codemirror_mode": {
    "name": "ipython",
    "version": 3
   },
   "file_extension": ".py",
   "mimetype": "text/x-python",
   "name": "python",
   "nbconvert_exporter": "python",
   "pygments_lexer": "ipython3",
   "version": "3.11.2"
  },
  "orig_nbformat": 4,
  "vscode": {
   "interpreter": {
    "hash": "aee8b7b246df8f9039afb4144a1f6fd8d2ca17a180786b69acc140d282b71a49"
   }
  }
 },
 "nbformat": 4,
 "nbformat_minor": 2
}
