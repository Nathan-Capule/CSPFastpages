{
 "cells": [
  {
   "cell_type": "markdown",
   "metadata": {},
   "source": [
    "# Unit 3.12 - 3.13 Hacks\n",
    "\n",
    "- toc: true \n",
    "- badges: true\n",
    "- comments: true\n",
    "- categories: [Week_14]"
   ]
  },
  {
   "cell_type": "markdown",
   "metadata": {},
   "source": [
    "# Lesson 3.12 & 3.13 Notes\n",
    "## 3.12 Notes\n",
    "* A procedure is a named set of instructions that can take in parameters and after the code is run, return values.\n",
    "* Parameters are used inside of procedures as independent variables.\n",
    "Parameters can be used in 3 ways, those being sequences, selections, and iterations.\n",
    "* You can call a procedure by writing the name of a procedure and adding the parameters in parentheses.\n",
    "* To return values you must write return followed by the expression.\n",
    "* Arguments are what is printed\n",
    "* Return is necessary for functions to work.\n",
    "## 3.13 Notes\n",
    "* Modularity: Breaking complex programs into easier parts\n",
    "* Abstraction: Hides parts and exposes what is necessary\n",
    "* Duplication: Multiple codes of the same thing, reduces efficacy as it can be simplified.\n",
    "* Steps that a computer follows\n",
    "* Procedure name is the name given to a function or procedure.\n",
    "* Arguments provide information to a function, kind of like a what to do.\n",
    "* Collegeboard uses similar wording but some are shortened.\n",
    "---"
   ]
  },
  {
   "cell_type": "markdown",
   "metadata": {},
   "source": [
    "# Hacks\n",
    "## 3.12 Hacks\n",
    "1. Define **procedure** and **parameter** in your own words\n",
    "- A procedure does a specific part and must be called, such as multiplying two numbers together The procedure will take in parameters and will output values.\n",
    "A parameter is just variables, typically found within procedures.\n",
    "2. Paste a **screenshot** of completion of the quiz\n"
   ]
  },
  {
   "cell_type": "code",
   "execution_count": 1,
   "metadata": {},
   "outputs": [
    {
     "name": "stdout",
     "output_type": "stream",
     "text": [
      "Question: What is are correct names for a procedure? \n",
      " A) Method \n",
      " B) Function \n",
      " C) Both\n",
      "Answer: c\n",
      "Correct :) \n",
      "\n",
      "Question: What is a procedure? \n",
      " A) Sequencing \n",
      " B) Selection \n",
      " C) Iteration \n",
      " D) All\n",
      "Answer: d\n",
      "Correct :) \n",
      "\n",
      "Question: Use this for following question: \n",
      " def inchesToFeet(lengthInches): \n",
      "\t lengthFeet = lengthInches / 12 \n",
      "\t return lengthFeet \n",
      "\n",
      " What is the procedure name, the parameter, and what the procedure returns? \n",
      " A) feetToInches, lengthInches, lengthMeters \n",
      " B) inchesToFeet, lengthInches, lengthFeet \n",
      " C) inchesToFeet, lengthFeet, lengthInches \n",
      " D) lengthInches, inchesToFeet, lengthFeet\n",
      "Answer: b\n",
      "Correct :) \n",
      "\n",
      "Score: 3 / 3\n"
     ]
    }
   ],
   "source": [
    "questionNum = 3\n",
    "correct = 0\n",
    "questions = [\n",
    "    \"What is are correct names for a procedure? \\n A) Method \\n B) Function \\n C) Both\",\n",
    "    \"What is a procedure? \\n A) Sequencing \\n B) Selection \\n C) Iteration \\n D) All\",\n",
    "    \"Use this for following question: \\n def inchesToFeet(lengthInches): \\n\\t lengthFeet = lengthInches / 12 \\n\\t return lengthFeet \\n\\n What is the procedure name, the parameter, and what the procedure returns? \\n A) feetToInches, lengthInches, lengthMeters \\n B) inchesToFeet, lengthInches, lengthFeet \\n C) inchesToFeet, lengthFeet, lengthInches \\n D) lengthInches, inchesToFeet, lengthFeet\"]\n",
    "answers = [\"c\", \"d\", \"b\"]\n",
    "\n",
    "def qna(question, answer):\n",
    "    print(\"Question:\", question)\n",
    "    response = input()\n",
    "    print(\"Answer:\", response)\n",
    "    \n",
    "    if response.lower() == answer:\n",
    "        print(\"Correct :) \\n\")\n",
    "        global correct\n",
    "        correct += 1\n",
    "    else:\n",
    "        print(\"Incorrect :( \\n\")\n",
    "for x in range(questionNum):\n",
    "    qna(questions[x], answers[x])\n",
    "    \n",
    "print(\"Score:\", correct, \"/ 3\")"
   ]
  },
  {
   "cell_type": "markdown",
   "metadata": {},
   "source": [
    "3. Define **Return Values** and **Output Parameters** in your own words\n",
    "Return values are are what is resulted once a procedure is run. Parameters are variables that are used within procedures that can lead to the output. \n",
    "4. Code a **procedure** that finds the square root of any given number. (make sure to call and return the function)"
   ]
  },
  {
   "cell_type": "code",
   "execution_count": 20,
   "metadata": {},
   "outputs": [
    {
     "name": "stdout",
     "output_type": "stream",
     "text": [
      "The square root of  27 is  5.196152422706632\n"
     ]
    }
   ],
   "source": [
    "x=27\n",
    "import math\n",
    "def squarert(x):\n",
    "    squareroot = x ** 0.5\n",
    "    return squareroot\n",
    "squareroot = squarert(x)\n",
    "print(\"The square root of \", x, \"is \", squareroot)"
   ]
  },
  {
   "cell_type": "markdown",
   "metadata": {},
   "source": [
    "### Topic 3.13 (3.B):\n",
    "1. Explain, in your own words, why abstracting away your program logic into separate, modular functions is effective\n",
    "- Abstracting a program allows the coder to understand how the code works. This helps for long pieces of code so that the coder would be able to know what each function accomplishes and it allows them to better troubleshoot any possible issues.\n",
    "2. Create a procedure that uses other sub-procedures (other functions) within it and explain why the abstraction was needed (conciseness, shared behavior, etc.)\n",
    "This is an example of a procedure having sub procedures, in this case, there are two different smaller procedures based on the size of x. This makes it easier for the coder to see their work as well as it can shorten the length of code."
   ]
  },
  {
   "cell_type": "code",
   "execution_count": 37,
   "metadata": {},
   "outputs": [
    {
     "name": "stdout",
     "output_type": "stream",
     "text": [
      "that is a big number\n"
     ]
    }
   ],
   "source": [
    "def big_function():\n",
    "    x=84\n",
    "    if x > 23:\n",
    "        def big_num():\n",
    "            print(\"that is a big number\")\n",
    "        big_num()\n",
    "    else:\n",
    "        def small_num():\n",
    "            print(\"That is a small number\")\n",
    "        small_num()\n",
    "big_function()"
   ]
  },
  {
   "cell_type": "code",
   "execution_count": 44,
   "metadata": {},
   "outputs": [
    {
     "name": "stdout",
     "output_type": "stream",
     "text": [
      "Words starting with n: 2\n",
      "Words starting with c: 3\n"
     ]
    }
   ],
   "source": [
    "def split_string(s):\n",
    "    words = s.split(\" \")\n",
    "\n",
    "    new_words = []\n",
    "    for word in words:\n",
    "        if word != \"\":\n",
    "            new_words.append(word)\n",
    "    \n",
    "    return words\n",
    "\n",
    "def count_words_starting_with_letter(words, letter):\n",
    "    count = 0\n",
    "\n",
    "    for word in words:\n",
    "        if word.lower().startswith(letter):\n",
    "            count += 1\n",
    "    \n",
    "    return count\n",
    "\n",
    "def count_words_starting_with_n_in_string(s):\n",
    "    words = split_string(s)\n",
    "\n",
    "    count = count_words_starting_with_letter(words, \"n\")\n",
    "    \n",
    "    return count\n",
    "\n",
    "def count_words_starting_with_c_in_string(s):\n",
    "    words = split_string(s)\n",
    "    count = count_words_starting_with_letter(words, \"c\")\n",
    "    return count\n",
    "\n",
    "# example usage:\n",
    "s = \"I guess that I am tryna find the words in this sentence start with n or c, you know, cus thats my initials, nathan capule, yeah, its kinda obvious \"\n",
    "n_count = count_words_starting_with_n_in_string(s)\n",
    "c_count = count_words_starting_with_c_in_string(s)\n",
    "print(\"Words starting with n:\", n_count)\n",
    "print(\"Words starting with c:\", c_count)"
   ]
  },
  {
   "cell_type": "markdown",
   "metadata": {},
   "source": [
    "### Topic 3.13 (3.C):\n",
    "1. Define <font color=\"#ffffc2\" style=\"font-weight: bold\">procedure names</font> and <font color=\"#ffffc2\" style=\"font-weight: bold\">arguments</font> in your own words.\n",
    "Procedure names are just the names given to a function while arguments are the values given to a called function.\n",
    "2. Code some <font color=\"#ffffc2\" style=\"font-weight: bold\">procedures</font> that use <font color=\"#ffffc2\" style=\"font-weight: bold\">arguments</font> and <font color=\"#ffffc2\" style=\"font-weight: bold\">parameters</font> with Javascript and HTML (make sure they are interactive on your hacks page, allowing the user to input numbers and click a button to produce an output)\n",
    "  - Add two numbers\n",
    "  - Subtract two numbers\n",
    "  - Multiply two numbers\n",
    "  - Divide two numbers\n",
    "<!-- function is called here -->\n",
    "<p>var a = 13</p>\n",
    "<p>var b = 12</p>\n",
    "<p>var c = 6</p>\n",
    "<button id=\"enter\" onclick=\"add(a,b)\">add a and b</button> \n",
    "<p id=\"result1\"></p>\n",
    "<button id=\"enter\" onclick=\"add(a,c)\">add a and c</button> \n",
    "<p id=\"result5\"></p>\n",
    "<button id=\"enter\" onclick=\"add(b,c)\">add b and c</button> \n",
    "<p id=\"result6\"></p>\n",
    "<button id=\"enter\" onclick=\"subtract(a,b)\">subtract a and b</button> \n",
    "<p id=\"result2\"></p>\n",
    "<button id=\"enter\" onclick=\"subtract(a,c)\">subtract a and c</button> \n",
    "<p id=\"result7\"></p>\n",
    "<button id=\"enter\" onclick=\"subtract(b,c)\">subtract b and c</button> \n",
    "<p id=\"result8\"></p>\n",
    "<button id=\"enter\" onclick=\"multiply(a,b)\">multiply a and b</button> \n",
    "<p id=\"result3\"></p>\n",
    "<button id=\"enter\" onclick=\"multiply(a,c)\">multiply a and c</button> \n",
    "<p id=\"result9\"></p>\n",
    "<button id=\"enter\" onclick=\"multiply(b,c)\">multiply b and c</button> \n",
    "<p id=\"result10\"></p>\n",
    "<button id=\"enter\" onclick=\"divide(a,b)\">divide a and b</button> \n",
    "<p id=\"result4\"></p>\n",
    "<button id=\"enter\" onclick=\"divide(a,c)\">divide a and c</button> \n",
    "<p id=\"result11\"></p>\n",
    "<button id=\"enter\" onclick=\"divide(b,c)\">divide b and c</button> \n",
    "<p id=\"result12\"></p>\n",
    "\n",
    "\n",
    "<!-- javascript -->\n",
    "<script>\n",
    "    function add(a,b) {\n",
    "        document.getElementById(\"result1\").innerHTML = a + b // math\n",
    "    }\n",
    "    function add(a,c) {\n",
    "        document.getElementById(\"result5\").innerHTML = a + c // math\n",
    "    }\n",
    "    function add(b,c) {\n",
    "        document.getElementById(\"result6\").innerHTML = b + c // math\n",
    "    }\n",
    "    function subtract(a,b) {\n",
    "        document.getElementById(\"result2\").innerHTML = a - b\n",
    "    }\n",
    "    function subtract(a,c) {\n",
    "        document.getElementById(\"result7\").innerHTML = a - c\n",
    "    }\n",
    "    function subtract(b,c) {\n",
    "        document.getElementById(\"result8\").innerHTML = b - c\n",
    "    }\n",
    "    function multiply(a,b) {\n",
    "        document.getElementById(\"result3\").innerHTML = a * b // math\n",
    "    }\n",
    "        function multiply(a,c) {\n",
    "        document.getElementById(\"result9\").innerHTML = a * c // math\n",
    "    }\n",
    "        function multiply(b,c) {\n",
    "        document.getElementById(\"result10\").innerHTML = b * c // math\n",
    "    }\n",
    "    function divide(a,b) {\n",
    "        document.getElementById(\"result4\").innerHTML = a / b // math\n",
    "    }\n",
    "    function divide(a,c) {\n",
    "        document.getElementById(\"result11\").innerHTML = a / c // math\n",
    "    }\n",
    "    function divide(b,c) {\n",
    "        document.getElementById(\"result12\").innerHTML = b / c // math\n",
    "    }\n",
    "    // variables are defined\n",
    "    var a = 13\n",
    "    var b = 12\n",
    "    var c = 6\n",
    "</script>"
   ]
  }
 ],
 "metadata": {
  "kernelspec": {
   "display_name": "Python 3.10.6 64-bit",
   "language": "python",
   "name": "python3"
  },
  "language_info": {
   "codemirror_mode": {
    "name": "ipython",
    "version": 3
   },
   "file_extension": ".py",
   "mimetype": "text/x-python",
   "name": "python",
   "nbconvert_exporter": "python",
   "pygments_lexer": "ipython3",
   "version": "3.10.6"
  },
  "orig_nbformat": 4,
  "vscode": {
   "interpreter": {
    "hash": "aee8b7b246df8f9039afb4144a1f6fd8d2ca17a180786b69acc140d282b71a49"
   }
  }
 },
 "nbformat": 4,
 "nbformat_minor": 2
}
