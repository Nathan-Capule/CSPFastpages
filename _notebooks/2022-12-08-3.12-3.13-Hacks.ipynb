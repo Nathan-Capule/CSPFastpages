{
 "cells": [
  {
   "cell_type": "markdown",
   "metadata": {},
   "source": [
    "# Unit 3.12 - 3.13 Hacks\n",
    "\n",
    "- toc: true \n",
    "- badges: true\n",
    "- comments: true\n",
    "- categories: [Week_14]"
   ]
  },
  {
   "cell_type": "markdown",
   "metadata": {},
   "source": [
    "# Lesson 3.12 & 3.13 Notes\n",
    "## 3.12 Notes\n",
    "* A procedure is a named set of instructions that can take in parameters and after the code is run, return values.\n",
    "* Parameters are used inside of procedures as independent variables.\n",
    "Parameters can be used in 3 ways, those being sequences, selections, and iterations.\n",
    "* You can call a procedure by writing the name of a procedure and adding the parameters in parentheses.\n",
    "* To return values you must write return followed by the expression.\n",
    "* Arguments are what is printed\n",
    "* Return is necessary for functions to work.\n",
    "## 3.13 Notes\n",
    "* Modularity: Breaking complex programs into easier parts\n",
    "* Abstraction: Hides parts and exposes what is necessary\n",
    "* Duplication: Multiple codes of the same thing, reduces efficacy as it can be simplified.\n",
    "* Steps that a computer follows\n",
    "* Procedure name is the name given to a function or procedure.\n",
    "* Arguments provide information to a function, kind of like a what to do.\n",
    "* Collegeboard uses similar wording but some are shortened.\n",
    "---"
   ]
  },
  {
   "cell_type": "markdown",
   "metadata": {},
   "source": [
    "# Hacks\n",
    "## 3.12 Hacks\n",
    "1. Define **procedure** and **parameter** in your own words\n",
    "A procedure does a specific part and must be called, such as multiplying two numbers together The procedure will take in parameters and will output values.\n",
    "A parameter is just variables, typically found within procedures.\n",
    "2. Paste a **screenshot** of completion of the quiz\n"
   ]
  },
  {
   "cell_type": "code",
   "execution_count": 1,
   "metadata": {},
   "outputs": [
    {
     "name": "stdout",
     "output_type": "stream",
     "text": [
      "Question: What is are correct names for a procedure? \n",
      " A) Method \n",
      " B) Function \n",
      " C) Both\n",
      "Answer: c\n",
      "Correct :) \n",
      "\n",
      "Question: What is a procedure? \n",
      " A) Sequencing \n",
      " B) Selection \n",
      " C) Iteration \n",
      " D) All\n",
      "Answer: d\n",
      "Correct :) \n",
      "\n",
      "Question: Use this for following question: \n",
      " def inchesToFeet(lengthInches): \n",
      "\t lengthFeet = lengthInches / 12 \n",
      "\t return lengthFeet \n",
      "\n",
      " What is the procedure name, the parameter, and what the procedure returns? \n",
      " A) feetToInches, lengthInches, lengthMeters \n",
      " B) inchesToFeet, lengthInches, lengthFeet \n",
      " C) inchesToFeet, lengthFeet, lengthInches \n",
      " D) lengthInches, inchesToFeet, lengthFeet\n",
      "Answer: b\n",
      "Correct :) \n",
      "\n",
      "Score: 3 / 3\n"
     ]
    }
   ],
   "source": [
    "questionNum = 3\n",
    "correct = 0\n",
    "questions = [\n",
    "    \"What is are correct names for a procedure? \\n A) Method \\n B) Function \\n C) Both\",\n",
    "    \"What is a procedure? \\n A) Sequencing \\n B) Selection \\n C) Iteration \\n D) All\",\n",
    "    \"Use this for following question: \\n def inchesToFeet(lengthInches): \\n\\t lengthFeet = lengthInches / 12 \\n\\t return lengthFeet \\n\\n What is the procedure name, the parameter, and what the procedure returns? \\n A) feetToInches, lengthInches, lengthMeters \\n B) inchesToFeet, lengthInches, lengthFeet \\n C) inchesToFeet, lengthFeet, lengthInches \\n D) lengthInches, inchesToFeet, lengthFeet\"]\n",
    "answers = [\"c\", \"d\", \"b\"]\n",
    "\n",
    "def qna(question, answer):\n",
    "    print(\"Question:\", question)\n",
    "    response = input()\n",
    "    print(\"Answer:\", response)\n",
    "    \n",
    "    if response.lower() == answer:\n",
    "        print(\"Correct :) \\n\")\n",
    "        global correct\n",
    "        correct += 1\n",
    "    else:\n",
    "        print(\"Incorrect :( \\n\")\n",
    "for x in range(questionNum):\n",
    "    qna(questions[x], answers[x])\n",
    "    \n",
    "print(\"Score:\", correct, \"/ 3\")"
   ]
  },
  {
   "cell_type": "markdown",
   "metadata": {},
   "source": [
    "3. Define **Return Values** and **Output Parameters** in your own words\n",
    "Return values are are what is resulted once a procedure is run. Parameters are variables that are used within procedures that can lead to the output. \n",
    "4. Code a **procedure** that finds the square root of any given number. (make sure to call and return the function)"
   ]
  },
  {
   "cell_type": "code",
   "execution_count": 20,
   "metadata": {},
   "outputs": [
    {
     "name": "stdout",
     "output_type": "stream",
     "text": [
      "The square root of  27 is  5.196152422706632\n"
     ]
    }
   ],
   "source": [
    "x=27\n",
    "import math\n",
    "def squarert(x):\n",
    "    squareroot = x ** 0.5\n",
    "    return squareroot\n",
    "squareroot = squarert(x)\n",
    "print(\"The square root of \", x, \"is \", squareroot)"
   ]
  }
 ],
 "metadata": {
  "kernelspec": {
   "display_name": "Python 3.10.6 64-bit",
   "language": "python",
   "name": "python3"
  },
  "language_info": {
   "codemirror_mode": {
    "name": "ipython",
    "version": 3
   },
   "file_extension": ".py",
   "mimetype": "text/x-python",
   "name": "python",
   "nbconvert_exporter": "python",
   "pygments_lexer": "ipython3",
   "version": "3.10.6"
  },
  "orig_nbformat": 4,
  "vscode": {
   "interpreter": {
    "hash": "aee8b7b246df8f9039afb4144a1f6fd8d2ca17a180786b69acc140d282b71a49"
   }
  }
 },
 "nbformat": 4,
 "nbformat_minor": 2
}
