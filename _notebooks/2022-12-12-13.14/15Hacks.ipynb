{
 "cells": [
  {
   "cell_type": "markdown",
   "metadata": {},
   "source": [
    "- Write a program that uses a library/libraries in any sort of manner.\n",
    "- Explain your work/code\n",
    "My code will find the cosine value for a given value"
   ]
  },
  {
   "cell_type": "code",
   "execution_count": 68,
   "metadata": {},
   "outputs": [],
   "source": [
    "import math\n",
    "\n",
    "def cos(a):\n",
    "    a = int(input())\n",
    "    result = math.sqrt(a)\n",
    "    return result\n",
    "\n"
   ]
  },
  {
   "cell_type": "markdown",
   "metadata": {},
   "source": [
    "A random function can choose a number between two different numerical values. An example is random(1,8) will choose a random number between 1 and 8 inclusive. This helps to simplify code as writing a random number generator would use up a lot more space than \"import random\"\n",
    "Besides random and math, you can also import Seaborn which is useful for plotting graphs and creating tables."
   ]
  },
  {
   "cell_type": "code",
   "execution_count": 38,
   "metadata": {},
   "outputs": [
    {
     "name": "stdout",
     "output_type": "stream",
     "text": [
      "heads\n"
     ]
    }
   ],
   "source": [
    "import random\n",
    "rndm = random.randint(1,2)\n",
    "if rndm == 1:\n",
    "    print(\"heads\")\n",
    "if rndm == 2:\n",
    "    print(\"tails\")"
   ]
  },
  {
   "cell_type": "code",
   "execution_count": 55,
   "metadata": {},
   "outputs": [
    {
     "name": "stdout",
     "output_type": "stream",
     "text": [
      "blue\n"
     ]
    }
   ],
   "source": [
    "import random\n",
    "rndm = random.randint(1,8)\n",
    "if 3 >= rndm:\n",
    "    print(\"green\")\n",
    "if rndm == 4:\n",
    "    print(\"blue\")\n",
    "if rndm == 5:\n",
    "    print(\"blue\")\n",
    "if rndm == 6:\n",
    "    print(\"purple\")\n",
    "if rndm == 7:\n",
    "    print(\"red\")\n",
    "if rndm == 8:\n",
    "    print(\"orange\")"
   ]
  }
 ],
 "metadata": {
  "kernelspec": {
   "display_name": "Python 3.10.6 64-bit",
   "language": "python",
   "name": "python3"
  },
  "language_info": {
   "codemirror_mode": {
    "name": "ipython",
    "version": 3
   },
   "file_extension": ".py",
   "mimetype": "text/x-python",
   "name": "python",
   "nbconvert_exporter": "python",
   "pygments_lexer": "ipython3",
   "version": "3.10.6"
  },
  "orig_nbformat": 4,
  "vscode": {
   "interpreter": {
    "hash": "aee8b7b246df8f9039afb4144a1f6fd8d2ca17a180786b69acc140d282b71a49"
   }
  }
 },
 "nbformat": 4,
 "nbformat_minor": 2
}
