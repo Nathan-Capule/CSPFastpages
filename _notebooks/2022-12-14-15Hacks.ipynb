{
 "cells": [
  {
   "cell_type": "markdown",
   "metadata": {},
   "source": [
    "# Unit 3.15 & 3.15 Notes and Hacks\n",
    "- toc: true\n",
    "- badges: true\n",
    "- categories: [Week 15]"
   ]
  },
  {
   "cell_type": "markdown",
   "metadata": {},
   "source": [
    "## Notes\n",
    "### Key Terms\n",
    "* Software Library: Contains procedures that can be used in the creation of new programs\n",
    "* Randomization generates a random value between any two numbers.\n",
    "### 3.14\n",
    "- Existing segments of code can come from both internal and external sources.\n",
    "- The use of libraries simplifies the task of creating complex programs.\n",
    "- Documentation for a library is necessary in understanding key behaviors\n",
    "- You can import those libraries such as math.\n",
    "### 3.15\n",
    "- You need to import random to allow a random number generator.\n",
    "- Randomizing will choose a random value between the specified domains.\n",
    "- There are many different commands for different imports"
   ]
  },
  {
   "cell_type": "markdown",
   "metadata": {},
   "source": [
    "## Hacks\n",
    "### Hacks 3.14.1\n",
    "- Write a program that uses a library/libraries in any sort of manner.\n",
    "- Explain your work/code\n",
    "* My code will find the cosine value for a given value"
   ]
  },
  {
   "cell_type": "code",
   "execution_count": 68,
   "metadata": {},
   "outputs": [],
   "source": [
    "import math\n",
    "\n",
    "def cos(a):\n",
    "    a = int(input())\n",
    "    result = math.sqrt(a)\n",
    "    return result\n",
    "\n"
   ]
  },
  {
   "cell_type": "markdown",
   "metadata": {},
   "source": [
    "### Hacks 3.15.1\n",
    "* Write a few lines of code that implements the import function\n"
   ]
  },
  {
   "cell_type": "code",
   "execution_count": 38,
   "metadata": {},
   "outputs": [
    {
     "name": "stdout",
     "output_type": "stream",
     "text": [
      "heads\n"
     ]
    }
   ],
   "source": [
    "import random\n",
    "rndm = random.randint(1,2)\n",
    "if rndm == 1:\n",
    "    print(\"heads\")\n",
    "if rndm == 2:\n",
    "    print(\"tails\")"
   ]
  },
  {
   "cell_type": "markdown",
   "metadata": {},
   "source": [
    "* Define what an import random function do\n",
    "* A random function can choose a number between two different numerical values. An example is random(1,8) will choose a random number between 1 and 8 inclusive. This helps to simplify code as writing a random number generator would use up a lot more space than \"import random\"\n",
    "* List a few other things that we can import other than random\n",
    "* Besides random and math, you can also import Seaborn which is useful for plotting graphs and creating tables."
   ]
  },
  {
   "cell_type": "markdown",
   "metadata": {},
   "source": [
    "### Hacks 3.15.2\n",
    "- For your hacks you need to create a random number generator that will simulate this situation:\n",
    "- There is a spinner divided into eight equal parts. 3 parts of the spinner are green, two parts are blue, one part is purple, one part is red, and one part is orange. How can you simulate this situation using a random number generator.\n",
    " "
   ]
  },
  {
   "cell_type": "code",
   "execution_count": 55,
   "metadata": {},
   "outputs": [
    {
     "name": "stdout",
     "output_type": "stream",
     "text": [
      "blue\n"
     ]
    }
   ],
   "source": [
    "import random\n",
    "rndm = random.randint(1,8)\n",
    "if 3 >= rndm:\n",
    "    print(\"green\")\n",
    "if rndm == 4:\n",
    "    print(\"blue\")\n",
    "if rndm == 5:\n",
    "    print(\"blue\")\n",
    "if rndm == 6:\n",
    "    print(\"purple\")\n",
    "if rndm == 7:\n",
    "    print(\"red\")\n",
    "if rndm == 8:\n",
    "    print(\"orange\")"
   ]
  },
  {
   "cell_type": "markdown",
   "metadata": {},
   "source": [
    "- Also answer this question: What numbers can be outputted from RANDOM(12,20) and what numbers are excluded?\n",
    "* All of the possible numbers printed are al integers from 12 to 20 inclusive while anything that is not between 12 and 20 would be excluded."
   ]
  }
 ],
 "metadata": {
  "kernelspec": {
   "display_name": "Python 3.10.6 64-bit",
   "language": "python",
   "name": "python3"
  },
  "language_info": {
   "codemirror_mode": {
    "name": "ipython",
    "version": 3
   },
   "file_extension": ".py",
   "mimetype": "text/x-python",
   "name": "python",
   "nbconvert_exporter": "python",
   "pygments_lexer": "ipython3",
   "version": "3.10.6"
  },
  "orig_nbformat": 4,
  "vscode": {
   "interpreter": {
    "hash": "aee8b7b246df8f9039afb4144a1f6fd8d2ca17a180786b69acc140d282b71a49"
   }
  }
 },
 "nbformat": 4,
 "nbformat_minor": 2
}
