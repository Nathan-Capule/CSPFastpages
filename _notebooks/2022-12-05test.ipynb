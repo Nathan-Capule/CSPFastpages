{
 "cells": [
  {
   "cell_type": "code",
   "execution_count": 3,
   "metadata": {},
   "outputs": [
    {
     "name": "stdout",
     "output_type": "stream",
     "text": [
      "3\n"
     ]
    }
   ],
   "source": [
    "numbers = [13, 27, 26, 643, 65, 432, 3, 85]\n",
    "\n",
    "possibleMin = numbers[0]\n",
    "for x in numbers:\n",
    "    if x < possibleMin:\n",
    "        possibleMin = x\n",
    "print(possibleMin)"
   ]
  },
  {
   "cell_type": "code",
   "execution_count": 8,
   "metadata": {},
   "outputs": [
    {
     "ename": "TypeError",
     "evalue": "unsupported operand type(s) for -: 'list' and 'list'",
     "output_type": "error",
     "traceback": [
      "\u001b[0;31m---------------------------------------------------------------------------\u001b[0m",
      "\u001b[0;31mTypeError\u001b[0m                                 Traceback (most recent call last)",
      "\u001b[1;32m/Users/nathancapule/vscode/CSPFastpages/CSPFastpages/_notebooks/2022-12-05test.ipynb Cell 2\u001b[0m in \u001b[0;36m<cell line: 6>\u001b[0;34m()\u001b[0m\n\u001b[1;32m      <a href='vscode-notebook-cell:/Users/nathancapule/vscode/CSPFastpages/CSPFastpages/_notebooks/2022-12-05test.ipynb#W2sZmlsZQ%3D%3D?line=3'>4</a>\u001b[0m calc1 \u001b[39m=\u001b[39m xvalue \u001b[39m*\u001b[39m \u001b[39m10\u001b[39m \u001b[39m+\u001b[39m value\n\u001b[1;32m      <a href='vscode-notebook-cell:/Users/nathancapule/vscode/CSPFastpages/CSPFastpages/_notebooks/2022-12-05test.ipynb#W2sZmlsZQ%3D%3D?line=4'>5</a>\u001b[0m calc2 \u001b[39m=\u001b[39m value \u001b[39m*\u001b[39m \u001b[39m10\u001b[39m \u001b[39m+\u001b[39m xvalue\n\u001b[0;32m----> <a href='vscode-notebook-cell:/Users/nathancapule/vscode/CSPFastpages/CSPFastpages/_notebooks/2022-12-05test.ipynb#W2sZmlsZQ%3D%3D?line=5'>6</a>\u001b[0m calc3 \u001b[39m=\u001b[39m calc1 \u001b[39m-\u001b[39;49m calc2\n\u001b[1;32m      <a href='vscode-notebook-cell:/Users/nathancapule/vscode/CSPFastpages/CSPFastpages/_notebooks/2022-12-05test.ipynb#W2sZmlsZQ%3D%3D?line=6'>7</a>\u001b[0m \u001b[39mif\u001b[39;00m calc3 \u001b[39m==\u001b[39m \u001b[39m2\u001b[39m \u001b[39mor\u001b[39;00m calc3 \u001b[39m==\u001b[39m \u001b[39m12\u001b[39m \u001b[39mor\u001b[39;00m calc3 \u001b[39m==\u001b[39m \u001b[39m22\u001b[39m \u001b[39mor\u001b[39;00m calc3 \u001b[39m==\u001b[39m \u001b[39m78\u001b[39m:\n\u001b[1;32m      <a href='vscode-notebook-cell:/Users/nathancapule/vscode/CSPFastpages/CSPFastpages/_notebooks/2022-12-05test.ipynb#W2sZmlsZQ%3D%3D?line=7'>8</a>\u001b[0m     \u001b[39mprint\u001b[39m(calc1)\n",
      "\u001b[0;31mTypeError\u001b[0m: unsupported operand type(s) for -: 'list' and 'list'"
     ]
    }
   ],
   "source": [
    "xvalue = [1, 2, 3, 4, 5, 6, 7, 8, 9]\n",
    "value = [1, 2, 3, 4, 5, 6, 7, 8, 9]\n",
    "import math\n",
    "calc1 = xvalue * 10 + value\n",
    "calc2 = value * 10 + xvalue\n",
    "calc3 = calc1 - calc2\n",
    "if calc3 == 2 or calc3 == 12 or calc3 == 22 or calc3 == 78:\n",
    "    print(calc1)\n"
   ]
  }
 ],
 "metadata": {
  "kernelspec": {
   "display_name": "Python 3.10.6 64-bit",
   "language": "python",
   "name": "python3"
  },
  "language_info": {
   "codemirror_mode": {
    "name": "ipython",
    "version": 3
   },
   "file_extension": ".py",
   "mimetype": "text/x-python",
   "name": "python",
   "nbconvert_exporter": "python",
   "pygments_lexer": "ipython3",
   "version": "3.10.6"
  },
  "orig_nbformat": 4,
  "vscode": {
   "interpreter": {
    "hash": "aee8b7b246df8f9039afb4144a1f6fd8d2ca17a180786b69acc140d282b71a49"
   }
  }
 },
 "nbformat": 4,
 "nbformat_minor": 2
}
