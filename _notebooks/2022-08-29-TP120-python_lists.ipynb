{
 "cells": [
  {
   "cell_type": "markdown",
   "metadata": {},
   "source": [
    "# Lists, Dictionaries, Iteration\n",
    "> An introduction to Data Abstraction using Python Lists [] and Python Dictionaries {}.\n",
    "\n",
    "- title: Lists, Dictionaries, Iteration\n",
    "- toc: true\n",
    "- categories: [units]\n",
    "- permalink: /collegeboard/python_lists\n",
    "- image: /images/python_lists.png\n",
    "- categories: [collegeboard]\n",
    "- tags: [python]"
   ]
  },
  {
   "cell_type": "markdown",
   "metadata": {},
   "source": [
    "### Lists and Dictionaries\n",
    "As a quick review we used variables in the introduction last week.  <mark>Variables all have a type</mark>: String, Integer, Float, List and Dictionary are some key types.  In Python, variables are given a type at assignment,  Types are important to understand and will impact operations, as we saw when we were required to user str() function in concatenation.  \n",
    "\n",
    "1. Developers often think of variables as primitives or collections.  Look at this example and see if you can see hypothesize the difference between a primitive and a collection.  \n",
    "2. Take a minute and see if you can reference other elements in the list or other keys in the dictionary. Show output."
   ]
  },
  {
   "cell_type": "code",
   "execution_count": 14,
   "metadata": {},
   "outputs": [
    {
     "name": "stdout",
     "output_type": "stream",
     "text": [
      "name Nathaniel Capule <class 'str'>\n",
      "age 16 <class 'int'>\n",
      "score 91.4 <class 'float'>\n",
      "\n",
      "langs ['Python', 'JavaScript', 'Java', 'Bash'] <class 'list'>\n",
      "- langs[3] Bash <class 'str'>\n",
      "\n",
      "person {'name': 'Nathaniel Capule', 'age': 16, 'score': 91.4, 'langs': ['Python', 'JavaScript', 'Java', 'Bash']} <class 'dict'>\n",
      "- person[\"name\"] Nathaniel Capule <class 'str'>\n"
     ]
    }
   ],
   "source": [
    "# Sample of Python Variables\n",
    "\n",
    "# variable of type string\n",
    "name = \"Nathaniel Capule\"\n",
    "print(\"name\", name, type(name))\n",
    "\n",
    "# variable of type integer\n",
    "age = 16\n",
    "print(\"age\", age, type(age))\n",
    "\n",
    "# variable of type float\n",
    "score = 91.4\n",
    "print(\"score\", score, type(score))\n",
    "\n",
    "print()\n",
    "\n",
    "# variable of type list (many values in one variable)\n",
    "langs = [\"Python\", \"JavaScript\", \"Java\", \"Bash\"]\n",
    "print(\"langs\", langs, type(langs))\n",
    "print(\"- langs[3]\", langs[3], type(langs[3]))\n",
    "\n",
    "print()\n",
    "\n",
    "# variable of type dictionary (a group of keys and values)\n",
    "person = {\n",
    "    \"name\": name,\n",
    "    \"age\": age,\n",
    "    \"score\": score,\n",
    "    \"langs\": langs\n",
    "}\n",
    "print(\"person\", person, type(person))\n",
    "print('- person[\"name\"]', person[\"name\"], type(person[\"name\"]))\n"
   ]
  },
  {
   "cell_type": "markdown",
   "metadata": {},
   "source": [
    "### List and Dictionary purpose\n",
    "Our society is being build on information.  <mark>List and Dictionaries are used to collect information</mark>.  Mostly, when information is collected it is formed into patterns.  As that pattern is established you will collect many instances of that pattern.\n",
    "- List is used to collect many\n",
    "- Dictionary is used to define data patterns.\n",
    "- Iteration is often used to process through lists.\n",
    "\n",
    "To start exploring more deeply into List, Dictionary and Iteration we will explore constructing a List of people and cars.\n",
    "- As we learned above, List is a data type: class 'list'\n",
    "- A <mark>'list' data type has the method '.append(expression)'</mark> that allows you to add to the list\n",
    "- In the example below,  the expression appended to the 'list' is the data type: class 'dict'\n",
    "- At the end, you see a fairly complicated data structure.  This is a <mark>list of dictionaries</mark>.  The output looks similar to JSON and we will see this often, you will be required to understand this data structure and understand the parts.  Easy peasy ;)."
   ]
  },
  {
   "cell_type": "code",
   "execution_count": 21,
   "metadata": {},
   "outputs": [
    {
     "name": "stdout",
     "output_type": "stream",
     "text": [
      "Recursive loop output\n",
      "\n",
      "While loop output\n",
      "\n",
      "Nathaniel Capule\n",
      "\t Residence: Del Sur\n",
      "\t Birth Day: July 8\n",
      "\t Cars: 2008 BMW 328i\n",
      "\n",
      "Toby Leeder\n",
      "\t Residence: 4s Ranch\n",
      "\t Birth Day: March 10\n",
      "\t Cars: None\n",
      "\n",
      "Gene Chang\n",
      "\t Residence: Del Sur\n",
      "\t Birth Day: February 19\n",
      "\t Cars: None\n",
      "\n",
      "While loop output\n",
      "\n",
      "Nathaniel Capule\n",
      "\t Residence: Del Sur\n",
      "\t Birth Day: July 8\n",
      "\t Cars: 2008 BMW 328i\n",
      "\n",
      "Toby Leeder\n",
      "\t Residence: 4s Ranch\n",
      "\t Birth Day: March 10\n",
      "\t Cars: None\n",
      "\n",
      "Gene Chang\n",
      "\t Residence: Del Sur\n",
      "\t Birth Day: February 19\n",
      "\t Cars: None\n",
      "\n"
     ]
    }
   ],
   "source": [
    "# Define an empty List called InfoDb\n",
    "InfoDb = []\n",
    "\n",
    "def recursive_loop(i):\n",
    "    if i < len(InfoDb):\n",
    "        record = InfoDb[i]\n",
    "        print_data(record)\n",
    "        recursive_loop(i + 1)\n",
    "    return\n",
    "    \n",
    "print(\"Recursive loop output\\n\")\n",
    "recursive_loop(0)\n",
    "\n",
    "# Append to List a 2nd Dictionary of key/values\n",
    "InfoDb.append({\n",
    "    \"FirstName\": \"Nathaniel\",\n",
    "    \"LastName\": \"Capule\",\n",
    "    \"DOB\": \"July 8\",\n",
    "    \"Residence\": \"Del Sur\",\n",
    "    \"Email\": \"nathancapule13@gmail.com\",\n",
    "    \"Owns_Cars\": [\"2008 BMW 328i\"]\n",
    "})\n",
    "\n",
    "# Append to List a 2nd Dictionary of key/values\n",
    "InfoDb.append({\n",
    "    \"FirstName\": \"Toby\",\n",
    "    \"LastName\": \"Leeder\",\n",
    "    \"DOB\": \"March 10\",\n",
    "    \"Residence\": \"4s Ranch\",\n",
    "    \"Email\": \"tobyzeavleeder@gmail.com\",\n",
    "    \"Owns_Cars\": [\"None\"]\n",
    "})\n",
    "\n",
    "# Append to List a 2nd Dictionary of key/values\n",
    "InfoDb.append({\n",
    "    \"FirstName\": \"Gene\",\n",
    "    \"LastName\": \"Chang\",\n",
    "    \"DOB\": \"February 19\",\n",
    "    \"Residence\": \"Del Sur\",\n",
    "    \"Email\": \"genechang0219@gmail.com\",\n",
    "    \"Owns_Cars\": [\"None\"]\n",
    "})\n",
    "\n",
    "# Print the data structure\n",
    "\n",
    "\n",
    "# print function: given a dictionary of InfoDb content\n",
    "def print_data(d_rec):\n",
    "    print(d_rec[\"FirstName\"], d_rec[\"LastName\"])  # using comma puts space between values\n",
    "    print(\"\\t\", \"Residence:\", d_rec[\"Residence\"]) # \\t is a tab indent\n",
    "    print(\"\\t\", \"Birth Day:\", d_rec[\"DOB\"])\n",
    "    print(\"\\t\", \"Cars: \", end=\"\")  # end=\"\" make sure no return occurs\n",
    "    print(\", \".join(d_rec[\"Owns_Cars\"]))  # join allows printing a string list with separator\n",
    "    print()\n",
    "\n",
    "def while_loop():\n",
    "    print(\"While loop output\\n\")\n",
    "    i = 0\n",
    "    while i < len(InfoDb):\n",
    "        record = InfoDb[i]\n",
    "        print_data(record)\n",
    "        i += 1\n",
    "    return\n",
    "\n",
    "while_loop()\n",
    "\n",
    "def Backwards_while_loop():\n",
    "    print(\"We goin back in time\\n\")\n",
    "    i = 4\n",
    "    while 0 <= i < len(InfoDb):\n",
    "        record = InfoDb[i]\n",
    "        print_data(record)\n",
    "        i -= 1\n",
    "    return\n",
    "\n",
    "while_loop()"
   ]
  },
  {
   "cell_type": "markdown",
   "metadata": {},
   "source": [
    "### Formatted output of List/Dictionary - for loop\n",
    "Managing data in Lists and Dictionaries is for the convenience of passing the data across the internet or preparing it to be stored into a database.  Also, it is a great way to exchange data inside of our own programs.\n",
    "\n",
    "Next, we will take the stored data and output it within our notebook.  There are multiple steps to this process...\n",
    "- <mark>Preparing a function to format the data</mark>, the print_data() function receives a parameter called \"d_rec\" short for dictionary record.  It then references different keys within [] square brackets.   \n",
    "- <mark>Preparing a function to iterate through the list</mark>, the for_loop() function uses an enhanced for loop that pull record by record out of InfoDb until the list is empty.  Each time through the loop it call print_data(record), which passes the dictionary record to that function.\n",
    "- Finally, you need to <mark>activate your function</mark> with the call to the defined function for_loop().  Functions are defined, not activated until they are called.  By placing for_loop() at the left margin the function is activated."
   ]
  },
  {
   "cell_type": "code",
   "execution_count": 22,
   "metadata": {},
   "outputs": [
    {
     "name": "stdout",
     "output_type": "stream",
     "text": [
      "For loop output\n",
      "\n",
      "Nathaniel Capule\n",
      "\t Residence: Del Sur\n",
      "\t Birth Day: July 8\n",
      "\t Cars: 2008 BMW 328i\n",
      "\n",
      "Toby Leeder\n",
      "\t Residence: 4s Ranch\n",
      "\t Birth Day: March 10\n",
      "\t Cars: None\n",
      "\n",
      "Gene Chang\n",
      "\t Residence: Del Sur\n",
      "\t Birth Day: February 19\n",
      "\t Cars: None\n",
      "\n"
     ]
    }
   ],
   "source": [
    "# given and index this will print InfoDb content\n",
    "def print_data(d_rec):\n",
    "    print(d_rec[\"FirstName\"], d_rec[\"LastName\"])  # using comma puts space between values\n",
    "    print(\"\\t\", \"Residence:\", d_rec[\"Residence\"]) # \\t is a tab indent\n",
    "    print(\"\\t\", \"Birth Day:\", d_rec[\"DOB\"])\n",
    "    print(\"\\t\", \"Cars: \", end=\"\")  # end=\"\" make sure no return occurs\n",
    "    print(\", \".join(d_rec[\"Owns_Cars\"]))  # join allows printing a string list with separator\n",
    "    print()\n",
    "\n",
    "\n",
    "# for loop iterates on length of InfoDb\n",
    "def for_loop():\n",
    "    print(\"For loop output\\n\")\n",
    "    for record in InfoDb:\n",
    "        print_data(record)\n",
    "\n",
    "for_loop()"
   ]
  },
  {
   "cell_type": "markdown",
   "metadata": {},
   "source": [
    "### Alternate methods for iteration - while loop\n",
    "In coding, there are usually many ways to achieve the same result.  Defined are functions illustrating using index to reference records in a list, these methods are called a \"while\" loop and \"recursion\".\n",
    "- The while_loop() function contains a while loop, \"while i < len(InfoDb):\".  This counts through the elements in the list start at zero, and passes the record to print_data()"
   ]
  },
  {
   "cell_type": "code",
   "execution_count": 18,
   "metadata": {},
   "outputs": [
    {
     "name": "stdout",
     "output_type": "stream",
     "text": [
      "While loop output\n",
      "\n",
      "John Mortensen\n",
      "\t Residence: San Diego\n",
      "\t Birth Day: October 21\n",
      "\t Cars: 2015-Fusion, 2011-Ranger, 2003-Excursion, 1997-F350, 1969-Cadillac\n",
      "\n",
      "Sunny Naidu\n",
      "\t Residence: Temecula\n",
      "\t Birth Day: August 2\n",
      "\t Cars: 4Runner\n",
      "\n",
      "Nathaniel Capule\n",
      "\t Residence: Del Sur\n",
      "\t Birth Day: July 8\n",
      "\t Cars: 2008 BMW 328i\n",
      "\n"
     ]
    }
   ],
   "source": [
    "# while loop contains an initial n and an index incrementing statement (n += 1)\n",
    "def while_loop():\n",
    "    print(\"While loop output\\n\")\n",
    "    i = 0\n",
    "    while i < len(InfoDb):\n",
    "        record = InfoDb[i]\n",
    "        print_data(record)\n",
    "        i += 1\n",
    "    return\n",
    "\n",
    "while_loop()"
   ]
  },
  {
   "cell_type": "markdown",
   "metadata": {},
   "source": [
    "### Calling a function repeatedly - recursion\n",
    "This final technique achieves looping by calling itself repeatedly.\n",
    "- recursive_loop(i) function is primed with the value 0 on its activation with \"recursive_loop(0)\"\n",
    "- the last statement indented inside the if statement \"recursive_loop(i + 1)\" activates another call to the recursive_loop(i) function, each time i is increasing\n",
    "- ultimately the \"if i < len(InfoDb):\" will evaluate to false and the program ends"
   ]
  },
  {
   "cell_type": "code",
   "execution_count": 23,
   "metadata": {},
   "outputs": [
    {
     "name": "stdout",
     "output_type": "stream",
     "text": [
      "Recursive loop output\n",
      "\n",
      "Nathaniel Capule\n",
      "\t Residence: Del Sur\n",
      "\t Birth Day: July 8\n",
      "\t Cars: 2008 BMW 328i\n",
      "\n",
      "Toby Leeder\n",
      "\t Residence: 4s Ranch\n",
      "\t Birth Day: March 10\n",
      "\t Cars: None\n",
      "\n",
      "Gene Chang\n",
      "\t Residence: Del Sur\n",
      "\t Birth Day: February 19\n",
      "\t Cars: None\n",
      "\n"
     ]
    }
   ],
   "source": [
    "# recursion simulates loop incrementing on each call (n + 1) until exit condition is met\n",
    "def recursive_loop(i):\n",
    "    if i < len(InfoDb):\n",
    "        record = InfoDb[i]\n",
    "        print_data(record)\n",
    "        recursive_loop(i + 1)\n",
    "    return\n",
    "    \n",
    "print(\"Recursive loop output\\n\")\n",
    "recursive_loop(0)"
   ]
  },
  {
   "cell_type": "code",
   "execution_count": 49,
   "metadata": {},
   "outputs": [
    {
     "name": "stdout",
     "output_type": "stream",
     "text": [
      "Question x:here1\n"
     ]
    },
    {
     "ename": "TypeError",
     "evalue": "unsupported operand type(s) for +: 'method' and 'str'",
     "output_type": "error",
     "traceback": [
      "\u001b[0;31m---------------------------------------------------------------------------\u001b[0m",
      "\u001b[0;31mTypeError\u001b[0m                                 Traceback (most recent call last)",
      "\u001b[1;32m/Users/nathancapule/vscode/CSPFastpages/CSPFastpages/_notebooks/2022-08-29-TP120-python_lists.ipynb Cell 12\u001b[0m in \u001b[0;36m<cell line: 13>\u001b[0;34m()\u001b[0m\n\u001b[1;32m     <a href='vscode-notebook-cell:/Users/nathancapule/vscode/CSPFastpages/CSPFastpages/_notebooks/2022-08-29-TP120-python_lists.ipynb#X15sZmlsZQ%3D%3D?line=9'>10</a>\u001b[0m         \u001b[39mprint\u001b[39m (\u001b[39m\"\u001b[39m\u001b[39mYour answer was incorrect\u001b[39m\u001b[39m\"\u001b[39m)\n\u001b[1;32m     <a href='vscode-notebook-cell:/Users/nathancapule/vscode/CSPFastpages/CSPFastpages/_notebooks/2022-08-29-TP120-python_lists.ipynb#X15sZmlsZQ%3D%3D?line=10'>11</a>\u001b[0m         score \u001b[39m-\u001b[39m\u001b[39m=\u001b[39m\u001b[39m1\u001b[39m\n\u001b[0;32m---> <a href='vscode-notebook-cell:/Users/nathancapule/vscode/CSPFastpages/CSPFastpages/_notebooks/2022-08-29-TP120-python_lists.ipynb#X15sZmlsZQ%3D%3D?line=12'>13</a>\u001b[0m question \u001b[39m=\u001b[39m quiz_question(\u001b[39m\"\u001b[39;49m\u001b[39mhere1\u001b[39;49m\u001b[39m\"\u001b[39;49m, \u001b[39m\"\u001b[39;49m\u001b[39mtest\u001b[39;49m\u001b[39m\"\u001b[39;49m)\n\u001b[1;32m     <a href='vscode-notebook-cell:/Users/nathancapule/vscode/CSPFastpages/CSPFastpages/_notebooks/2022-08-29-TP120-python_lists.ipynb#X15sZmlsZQ%3D%3D?line=13'>14</a>\u001b[0m question \u001b[39m=\u001b[39m quiz_question(\u001b[39m\"\u001b[39m\u001b[39mhere2\u001b[39m\u001b[39m\"\u001b[39m, \u001b[39m\"\u001b[39m\u001b[39mtest\u001b[39m\u001b[39m\"\u001b[39m)\n\u001b[1;32m     <a href='vscode-notebook-cell:/Users/nathancapule/vscode/CSPFastpages/CSPFastpages/_notebooks/2022-08-29-TP120-python_lists.ipynb#X15sZmlsZQ%3D%3D?line=14'>15</a>\u001b[0m question \u001b[39m=\u001b[39m quiz_question(\u001b[39m\"\u001b[39m\u001b[39mhere3\u001b[39m\u001b[39m\"\u001b[39m, \u001b[39m\"\u001b[39m\u001b[39mtest\u001b[39m\u001b[39m\"\u001b[39m)\n",
      "\u001b[1;32m/Users/nathancapule/vscode/CSPFastpages/CSPFastpages/_notebooks/2022-08-29-TP120-python_lists.ipynb Cell 12\u001b[0m in \u001b[0;36mquiz_question\u001b[0;34m(prompt, answer)\u001b[0m\n\u001b[1;32m      <a href='vscode-notebook-cell:/Users/nathancapule/vscode/CSPFastpages/CSPFastpages/_notebooks/2022-08-29-TP120-python_lists.ipynb#X15sZmlsZQ%3D%3D?line=2'>3</a>\u001b[0m user_input \u001b[39m=\u001b[39m \u001b[39minput\u001b[39m()\n\u001b[1;32m      <a href='vscode-notebook-cell:/Users/nathancapule/vscode/CSPFastpages/CSPFastpages/_notebooks/2022-08-29-TP120-python_lists.ipynb#X15sZmlsZQ%3D%3D?line=4'>5</a>\u001b[0m \u001b[39mif\u001b[39;00m answer \u001b[39m==\u001b[39m \u001b[39minput\u001b[39m():\n\u001b[0;32m----> <a href='vscode-notebook-cell:/Users/nathancapule/vscode/CSPFastpages/CSPFastpages/_notebooks/2022-08-29-TP120-python_lists.ipynb#X15sZmlsZQ%3D%3D?line=5'>6</a>\u001b[0m     \u001b[39mprint\u001b[39m (\u001b[39minput\u001b[39;49m \u001b[39m+\u001b[39;49m \u001b[39m\"\u001b[39;49m\u001b[39mis correct!\u001b[39;49m\u001b[39m\"\u001b[39;49m)\n\u001b[1;32m      <a href='vscode-notebook-cell:/Users/nathancapule/vscode/CSPFastpages/CSPFastpages/_notebooks/2022-08-29-TP120-python_lists.ipynb#X15sZmlsZQ%3D%3D?line=6'>7</a>\u001b[0m     \u001b[39mglobal\u001b[39;00m score\n\u001b[1;32m      <a href='vscode-notebook-cell:/Users/nathancapule/vscode/CSPFastpages/CSPFastpages/_notebooks/2022-08-29-TP120-python_lists.ipynb#X15sZmlsZQ%3D%3D?line=7'>8</a>\u001b[0m     score \u001b[39m+\u001b[39m\u001b[39m=\u001b[39m\u001b[39m2\u001b[39m\n",
      "\u001b[0;31mTypeError\u001b[0m: unsupported operand type(s) for +: 'method' and 'str'"
     ]
    }
   ],
   "source": [
    "def quiz_question(prompt, answer):\n",
    "    print(\"Question x:\" + prompt)\n",
    "    user_input = input()\n",
    "    \n",
    "    if answer == input():\n",
    "        print (input + \"is correct!\")\n",
    "        global score\n",
    "        score +=2\n",
    "    else:\n",
    "        print (\"Your answer was incorrect\")\n",
    "        score -=1\n",
    "\n",
    "question = quiz_question(\"here1\", \"test\")\n",
    "question = quiz_question(\"here2\", \"test\")\n",
    "question = quiz_question(\"here3\", \"test\")\n",
    "question = quiz_question(\"here4\", \"test\")\n",
    "question = quiz_question(\"here5\", \"test\")\n",
    "\n",
    "if score > 7:\n",
    "    print(\" Congrats, you scored a(n) {score}, thats pretty good!\")\n",
    "else:\n",
    "    print(\"You scored a(n) {score}, better luck next time.\")\n"
   ]
  },
  {
   "cell_type": "markdown",
   "metadata": {},
   "source": [
    "## Hacks\n",
    "- Add a couple of records to the InfoDb\n",
    "- Try to do a for loop with an index\n",
    "- Pair Share code somethings creative or unique, with loops and data. Hints...\n",
    "    - Would it be possible to output data in a reverse order?\n",
    "    - Are there other methods that can be performed on lists?\n",
    "    - Could you create new or add to dictionary data set?  Could you do it with input?\n",
    "    - Make a quiz that stores in a List of Dictionaries."
   ]
  }
 ],
 "metadata": {
  "kernelspec": {
   "display_name": "Python 3.10.6 64-bit",
   "language": "python",
   "name": "python3"
  },
  "language_info": {
   "codemirror_mode": {
    "name": "ipython",
    "version": 3
   },
   "file_extension": ".py",
   "mimetype": "text/x-python",
   "name": "python",
   "nbconvert_exporter": "python",
   "pygments_lexer": "ipython3",
   "version": "3.10.6"
  },
  "orig_nbformat": 4,
  "vscode": {
   "interpreter": {
    "hash": "aee8b7b246df8f9039afb4144a1f6fd8d2ca17a180786b69acc140d282b71a49"
   }
  }
 },
 "nbformat": 4,
 "nbformat_minor": 2
}
