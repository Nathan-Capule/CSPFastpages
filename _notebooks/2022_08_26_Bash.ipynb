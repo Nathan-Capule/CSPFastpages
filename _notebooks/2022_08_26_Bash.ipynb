{
 "cells": [
  {
   "cell_type": "markdown",
   "metadata": {},
   "source": [
    "# Gene's Bash Program (But Not Actually Gene's)"
   ]
  },
  {
   "cell_type": "code",
   "execution_count": 1,
   "metadata": {
    "vscode": {
     "languageId": "shellscript"
    }
   },
   "outputs": [
    {
     "name": "stdout",
     "output_type": "stream",
     "text": [
      "Python 3.9.12\n",
      "Python 2.7.18\n"
     ]
    }
   ],
   "source": [
    "python --version\n",
    "python2 --version"
   ]
  },
  {
   "cell_type": "code",
   "execution_count": null,
   "metadata": {
    "vscode": {
     "languageId": "shellscript"
    }
   },
   "outputs": [],
   "source": [
    "conda list\n"
   ]
  },
  {
   "cell_type": "code",
   "execution_count": null,
   "metadata": {
    "vscode": {
     "languageId": "shellscript"
    }
   },
   "outputs": [],
   "source": [
    "echo Conda Check\n",
    "# test for a kernel installation\n",
    "test=\"jupyter\" # keyword\n",
    "check=`conda list | grep $test` # run command\n",
    "n=${#check} # determine length\n",
    "\n",
    "if [[ ${n} > 0 ]];  # testt length\n",
    "then # greater than zero\n",
    "    echo \"$check\"\n",
    "else # less than zero\n",
    "    echo \"$test not found\"\n",
    "fi"
   ]
  },
  {
   "cell_type": "code",
   "execution_count": null,
   "metadata": {
    "vscode": {
     "languageId": "shellscript"
    }
   },
   "outputs": [],
   "source": [
    "jupyter --version\n",
    "jupyter kernelspec list"
   ]
  },
  {
   "cell_type": "code",
   "execution_count": null,
   "metadata": {
    "vscode": {
     "languageId": "shellscript"
    }
   },
   "outputs": [],
   "source": [
    "# test for a kernel installation\n",
    "test=\"python3\" # keyword\n",
    "check=`jupyter kernelspec list | grep $test` # run command\n",
    "n=${#check} # determine length\n",
    "\n",
    "if [[ ${n} > 0 ]];  # testt length\n",
    "then # greater than zero\n",
    "    echo \"$check\"\n",
    "else # less than zero\n",
    "    echo \"$test not found\"\n",
    "fi"
   ]
  }
 ],
 "metadata": {
  "kernelspec": {
   "display_name": "Bash",
   "language": "bash",
   "name": "bash"
  },
  "language_info": {
   "codemirror_mode": "shell",
   "file_extension": ".sh",
   "mimetype": "text/x-sh",
   "name": "bash"
  },
  "orig_nbformat": 4
 },
 "nbformat": 4,
 "nbformat_minor": 2
}
