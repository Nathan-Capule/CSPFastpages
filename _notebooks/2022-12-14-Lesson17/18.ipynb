{
 "cells": [
  {
   "cell_type": "markdown",
   "metadata": {},
   "source": [
    "## Lesson 17 and 18 Notes\n",
    "### Secton 17\n",
    "- Unsolvable problem: There is no code that can be written that will give an answer.\n",
    "- Undecidable problem: There is no code that can find the answer, but there is an answer, just too complex.\n",
    "- undecidability example is that there is no way to prove the collatz conjecture as true for all real numbers or if it is false.\n",
    "- Hailstone numbers is the list of numbers returned by running the Coltaz code.\n",
    "- Algorithm Efficiency measures how many steps it takes to complete an algorithm where less steps means more efficient.\n",
    "- Algorithms can make life easier\n",
    "---\n",
    "## Hacks\n"
   ]
  },
  {
   "cell_type": "code",
   "execution_count": 19,
   "metadata": {},
   "outputs": [
    {
     "name": "stdout",
     "output_type": "stream",
     "text": [
      "Please enter a number: 32 16 8 4 2 1\n",
      "Number of iterations: 5\n"
     ]
    },
    {
     "ename": "ValueError",
     "evalue": "invalid literal for int() with base 10: ''",
     "output_type": "error",
     "traceback": [
      "\u001b[0;31m---------------------------------------------------------------------------\u001b[0m",
      "\u001b[0;31mValueError\u001b[0m                                Traceback (most recent call last)",
      "\u001b[1;32m/Users/nathancapule/vscode/CSPFastpages/CSPFastpages/_notebooks/2022-12-14-Lesson17/18.ipynb Cell 2\u001b[0m in \u001b[0;36m<cell line: 29>\u001b[0;34m()\u001b[0m\n\u001b[1;32m     <a href='vscode-notebook-cell:/Users/nathancapule/vscode/CSPFastpages/CSPFastpages/_notebooks/2022-12-14-Lesson17/18.ipynb#W2sZmlsZQ%3D%3D?line=25'>26</a>\u001b[0m \u001b[39mprint\u001b[39m(\u001b[39m'\u001b[39m\u001b[39m'\u001b[39m)\n\u001b[1;32m     <a href='vscode-notebook-cell:/Users/nathancapule/vscode/CSPFastpages/CSPFastpages/_notebooks/2022-12-14-Lesson17/18.ipynb#W2sZmlsZQ%3D%3D?line=26'>27</a>\u001b[0m \u001b[39mprint\u001b[39m(\u001b[39m'\u001b[39m\u001b[39mNumber of iterations:\u001b[39m\u001b[39m'\u001b[39m, \u001b[39mlen\u001b[39m(l) \u001b[39m-\u001b[39m \u001b[39m1\u001b[39m)\n\u001b[0;32m---> <a href='vscode-notebook-cell:/Users/nathancapule/vscode/CSPFastpages/CSPFastpages/_notebooks/2022-12-14-Lesson17/18.ipynb#W2sZmlsZQ%3D%3D?line=28'>29</a>\u001b[0m i \u001b[39m=\u001b[39m \u001b[39mint\u001b[39;49m(\u001b[39minput\u001b[39;49m(\u001b[39m'\u001b[39;49m\u001b[39mEnter i: \u001b[39;49m\u001b[39m'\u001b[39;49m))\n\u001b[1;32m     <a href='vscode-notebook-cell:/Users/nathancapule/vscode/CSPFastpages/CSPFastpages/_notebooks/2022-12-14-Lesson17/18.ipynb#W2sZmlsZQ%3D%3D?line=29'>30</a>\u001b[0m \u001b[39mprint\u001b[39m(\u001b[39m'\u001b[39m\u001b[39mSequence: \u001b[39m\u001b[39m'\u001b[39m, end\u001b[39m=\u001b[39m\u001b[39m'\u001b[39m\u001b[39m'\u001b[39m)\n\u001b[1;32m     <a href='vscode-notebook-cell:/Users/nathancapule/vscode/CSPFastpages/CSPFastpages/_notebooks/2022-12-14-Lesson17/18.ipynb#W2sZmlsZQ%3D%3D?line=30'>31</a>\u001b[0m collatz(i)\n",
      "\u001b[0;31mValueError\u001b[0m: invalid literal for int() with base 10: ''"
     ]
    }
   ],
   "source": [
    "def collatz(i):\n",
    "    while i > 1:\n",
    "        print(i, end=' ')\n",
    "        if (i % 2):\n",
    "            i = 3*i + 1\n",
    "            list_.append(i)\n",
    "        else:\n",
    "            i = i//2\n",
    "            list_.append(i)\n",
    "    print(1, end='')\n",
    "    return list_\n",
    "\n",
    "\n",
    "print('Please enter a number: ', end='')\n",
    "while True:\n",
    "    try:\n",
    "        i = int(input())\n",
    "        list_ = [i]\n",
    "        break\n",
    "    except ValueError:\n",
    "        print('Invaid selection, try again: ', end='')\n",
    "\n",
    "\n",
    "l = collatz(i)\n",
    "\n",
    "print('')\n",
    "print('Number of iterations:', len(l) - 1)\n",
    " \n",
    "i = int(input('Enter i: '))\n",
    "print('Sequence: ', end='')\n",
    "collatz(i)"
   ]
  }
 ],
 "metadata": {
  "kernelspec": {
   "display_name": "Python 3.10.6 64-bit",
   "language": "python",
   "name": "python3"
  },
  "language_info": {
   "name": "python",
   "version": "3.10.6"
  },
  "orig_nbformat": 4,
  "vscode": {
   "interpreter": {
    "hash": "aee8b7b246df8f9039afb4144a1f6fd8d2ca17a180786b69acc140d282b71a49"
   }
  }
 },
 "nbformat": 4,
 "nbformat_minor": 2
}
