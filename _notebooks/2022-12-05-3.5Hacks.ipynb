{
 "cells": [
  {
   "cell_type": "markdown",
   "metadata": {},
   "source": [
    "# Unit 3.5 - 3.7 Hacks V2\n",
    "\n",
    "- toc: true \n",
    "- badges: true\n",
    "- comments: true\n",
    "- categories: [Week_14]\n",
    "\n",
    "{% include nav_frontend.html %}"
   ]
  },
  {
   "cell_type": "markdown",
   "metadata": {},
   "source": [
    "## Notes\n",
    "### Boolean\n",
    "* Represents logical propositions\n",
    "* Either true or false, such as testing for two numbers being equal\n",
    "* Represented with variables\n",
    "\n",
    "### Logical Operators\n",
    "* Not displays the opposite\n",
    "* And is used for two conditions together\n",
    "* Or is when using the function to see if one condition is met\n",
    "\n",
    "### Nested Conditional\n",
    "* Output changes based on what is written\n",
    "* Nested conditional statements have a coditional statement inside of another conditional statement.\n",
    "* TCalled nested conditional because they are nested together,\n",
    "* Can be used for varying \"else if statement\"\n"
   ]
  },
  {
   "cell_type": "markdown",
   "metadata": {},
   "source": [
    "## Hacks\n",
    "### 3.5\n",
    "* Explain in your own words what each logical operator does\n",
    "    * Not statement will display based on if the result is the opposite of the data. \n",
    "    * And Statement will display only if both of the conditions within the code are met.\n",
    "    * Or statements will display if at least one of the conditionals within the code are met.\n",
    "* Code your own scenario that makes sense for each logical operator"
   ]
  },
  {
   "cell_type": "code",
   "execution_count": 1,
   "metadata": {},
   "outputs": [
    {
     "name": "stdout",
     "output_type": "stream",
     "text": [
      "It is not july\n"
     ]
    }
   ],
   "source": [
    "# Not Example\n",
    "isJuly = False\n",
    "if not isJuly:\n",
    "    print(\"It is not july\")"
   ]
  },
  {
   "cell_type": "code",
   "execution_count": 2,
   "metadata": {},
   "outputs": [
    {
     "name": "stdout",
     "output_type": "stream",
     "text": [
      "You have an A\n"
     ]
    }
   ],
   "source": [
    "# And Example\n",
    "grade = 95\n",
    "if grade < 100 and grade >= 90:\n",
    "    print(\"You have an A\")"
   ]
  },
  {
   "cell_type": "code",
   "execution_count": 3,
   "metadata": {},
   "outputs": [
    {
     "name": "stdout",
     "output_type": "stream",
     "text": [
      "there is a way out\n"
     ]
    }
   ],
   "source": [
    "# Or example\n",
    "window = \"open\"\n",
    "door = \"closed\"\n",
    "if window == \"open\" or door == \"open\":\n",
    "    print(\"there is a way out\")\n",
    "else:\n",
    "    print(\"There is not a way out\")"
   ]
  },
  {
   "cell_type": "markdown",
   "metadata": {},
   "source": [
    "### 3.6\n",
    "- Selection: Code that is only executed if true or if false.\n",
    "- Algorithm: Code that has instructions in which its goal is to complete something.\n",
    "- Conditional Statement: Code that runs depending on if the result is true or false.\n",
    "* For the first hack, pretend you are a school's test grader. Create an array with integers, each integer representing one score from a student's taken tests. If the average of the student's test scores are at least 75 percent, then display that the student is elligible for credit, and if not, display that the student must retake the tests over break. "
   ]
  },
  {
   "cell_type": "code",
   "execution_count": 4,
   "metadata": {},
   "outputs": [
    {
     "name": "stdout",
     "output_type": "stream",
     "text": [
      "eligible for credit\n"
     ]
    }
   ],
   "source": [
    "grades = [78, 85, 56, 99, 96]\n",
    "average = sum(grades) / len(grades)\n",
    "if (average > 75):\n",
    "    print(\"eligible for credit\")\n",
    "else:\n",
    "    print(\"not eligible for credit\")"
   ]
  },
  {
   "cell_type": "markdown",
   "metadata": {},
   "source": [
    "* The second hack is more number-oriented. Create an algorithm that calculates the sum of two numbers, then determines whether the sum is greater than or less than 100."
   ]
  },
  {
   "cell_type": "code",
   "execution_count": 5,
   "metadata": {},
   "outputs": [
    {
     "name": "stdout",
     "output_type": "stream",
     "text": [
      "greater than 100\n"
     ]
    }
   ],
   "source": [
    "grades = [78, 33]\n",
    "scoreSum = sum(grades)\n",
    "if scoreSum > 100:\n",
    "    print(\"greater than 100\")"
   ]
  },
  {
   "cell_type": "markdown",
   "metadata": {},
   "source": [
    "### Level One Challenge"
   ]
  },
  {
   "cell_type": "code",
   "execution_count": 6,
   "metadata": {},
   "outputs": [
    {
     "name": "stdout",
     "output_type": "stream",
     "text": [
      "a\n",
      "a\n",
      "a\n"
     ]
    }
   ],
   "source": [
    "text = \"I am Nathan\"\n",
    "for lets in text:\n",
    "    if lets == \"a\" or lets == \"e\" or lets == \"i\" or lets == \"o\" or lets == \"u\":\n",
    "        print(lets)"
   ]
  },
  {
   "cell_type": "markdown",
   "metadata": {},
   "source": [
    "### Binary Conditional\n",
    "![]({{ site.baseurl }}/images/Flowchart1.png \"ex1\")"
   ]
  },
  {
   "cell_type": "code",
   "execution_count": 7,
   "metadata": {},
   "outputs": [
    {
     "name": "stdout",
     "output_type": "stream",
     "text": [
      "It is a black sedan\n"
     ]
    }
   ],
   "source": [
    "carColor = \"black\"\n",
    "bodyStyle = \"sedan\"\n",
    "if (carColor == \"black\"):\n",
    "    if (bodyStyle == \"sedan\"):\n",
    "        print(\"It is a black sedan\")\n",
    "    else:\n",
    "        print(\"It is a black car but not a sedan\")\n",
    "if (carColor != \"black\"):\n",
    "    if (bodyStyle == \"coupe\"):\n",
    "        print(\"It is a coupe but it is not black\")\n",
    "    else:\n",
    "        print(\"it is neither a black car nor a coupe\")"
   ]
  },
  {
   "cell_type": "code",
   "execution_count": 8,
   "metadata": {},
   "outputs": [
    {
     "name": "stdout",
     "output_type": "stream",
     "text": [
      "Not too bad\n"
     ]
    }
   ],
   "source": [
    "grade = 89\n",
    "if (grade > 80):\n",
    "    if (grade > 90):\n",
    "        print(\"Keep it up!\")\n",
    "    else:\n",
    "        print(\"Not too bad\")\n",
    "if (grade < 80):\n",
    "    if (grade < 60):\n",
    "        print(\"You really need to work on your grades\")\n",
    "    else:\n",
    "        print(\"You need to step it up\")"
   ]
  },
  {
   "cell_type": "code",
   "execution_count": 9,
   "metadata": {},
   "outputs": [
    {
     "name": "stdout",
     "output_type": "stream",
     "text": [
      "You live in the USA but not the best state.\n"
     ]
    }
   ],
   "source": [
    "Location = \"USA\"\n",
    "State = \"Michigan\"\n",
    "Planet = \"Earth\"\n",
    "if (Location == \"USA\"):\n",
    "    if (State == \"California\"):\n",
    "        print(\"You live in cali\")\n",
    "    else:\n",
    "        print(\"You live in the USA but not the best state.\")\n",
    "if (Location != \"USA\"):\n",
    "    if (Planet == \"Earth\"):\n",
    "        print(\"Congrats, you live on Earth\")\n",
    "    else:\n",
    "        print(\"Bro what\")"
   ]
  }
 ],
 "metadata": {
  "kernelspec": {
   "display_name": "Python 3.10.6 64-bit",
   "language": "python",
   "name": "python3"
  },
  "language_info": {
   "codemirror_mode": {
    "name": "ipython",
    "version": 3
   },
   "file_extension": ".py",
   "mimetype": "text/x-python",
   "name": "python",
   "nbconvert_exporter": "python",
   "pygments_lexer": "ipython3",
   "version": "3.10.6"
  },
  "orig_nbformat": 4,
  "vscode": {
   "interpreter": {
    "hash": "aee8b7b246df8f9039afb4144a1f6fd8d2ca17a180786b69acc140d282b71a49"
   }
  }
 },
 "nbformat": 4,
 "nbformat_minor": 2
}
