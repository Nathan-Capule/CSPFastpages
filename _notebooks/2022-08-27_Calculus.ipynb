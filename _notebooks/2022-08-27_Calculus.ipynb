{
 "cells": [
  {
   "cell_type": "markdown",
   "metadata": {},
   "source": [
    "# AP Calculus BC \n",
    ">Some of my calc hw\n",
    "\n",
    "- toc: true \n",
    "- badges: true\n",
    "- comments: true\n",
    "- categories: [Week_1]\n",
    "- image: images/chart-preview.png"
   ]
  },
  {
   "cell_type": "markdown",
   "metadata": {},
   "source": [
    "[Here](https://docs.google.com/document/d/1608X1-igMe0AK5tIZbeTJdeaOBrsOqmZ/edit?usp=sharing&ouid=111022766993849560244&rtpof=true&sd=true) is a link to the AP Calculus BC calender for homework.\n",
    "\n",
    "![]({{ site.baseurl }}/images/math.jpeg \"Math\")"
   ]
  }
 ],
 "metadata": {
  "kernelspec": {
   "display_name": "Python 3.10.6 64-bit",
   "language": "python",
   "name": "python3"
  },
  "language_info": {
   "name": "python",
   "version": "3.10.6"
  },
  "orig_nbformat": 4,
  "vscode": {
   "interpreter": {
    "hash": "aee8b7b246df8f9039afb4144a1f6fd8d2ca17a180786b69acc140d282b71a49"
   }
  }
 },
 "nbformat": 4,
 "nbformat_minor": 2
}
