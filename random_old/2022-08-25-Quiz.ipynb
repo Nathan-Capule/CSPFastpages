{
 "cells": [
  {
   "cell_type": "markdown",
   "metadata": {},
   "source": [
    "# Gene's Magnificent Quiz\n",
    "> It is not actually Gene's quiz, it is just a normal quiz.\n",
    "\n",
    "- toc: true \n",
    "- badges: true\n",
    "- comments: true\n",
    "- categories: [Week_1]\n",
    "- image: images/chart-preview.png"
   ]
  },
  {
   "cell_type": "code",
   "execution_count": 4,
   "metadata": {},
   "outputs": [
    {
     "name": "stdout",
     "output_type": "stream",
     "text": [
      "Hello, nathancapule running /usr/local/opt/python@3.10/bin/python3.10\n",
      "You will be asked 3 questions.\n",
      "Are you ready to take a test?\n",
      "Question: What command is used to include other functions that were previously developed?\n",
      "import is correct\n",
      "Question: What command is used to evaluate correct or incorrect response in this example?\n",
      "if is correct\n",
      "Question: Each 'if' command contains an '_________' to determine a true or false condition?\n",
      "ifis incorrect\n",
      "nathancapule you scored 2/3\n",
      "nathancapule your percentage is 67%\n"
     ]
    }
   ],
   "source": [
    "from ast import For\n",
    "import getpass, sys\n",
    "from operator import add\n",
    "from re import A\n",
    "\n",
    "questions = 3\n",
    "correct = 0\n",
    "\n",
    "def question_with_response(prompt):\n",
    "    print(\"Question: \" + prompt)\n",
    "    msg = input()\n",
    "    return msg\n",
    "\n",
    "def question_answer(Q, A):\n",
    "    rsp = question_with_response(Q)\n",
    "    if rsp == (A):\n",
    "        print(rsp + \" is correct\")\n",
    "        return (1)\n",
    "    else:\n",
    "        print(rsp + \"is incorrect\")\n",
    "        return (0)\n",
    "\n",
    "print('Hello, ' + getpass.getuser() + \" running \" + sys.executable)\n",
    "print(\"You will be asked \" + str(questions) + \" questions.\")\n",
    "print(\"Are you ready to take a test?\")\n",
    "\n",
    "correct += question_answer(\"What command is used to include other functions that were previously developed?\", \"import\")\n",
    "correct += question_answer(\"What command is used to evaluate correct or incorrect response in this example?\", \"if\")\n",
    "correct += question_answer(\"Each 'if' command contains an '_________' to determine a true or false condition?\", \"expression\")\n",
    "\n",
    "\n",
    "\n",
    "print(getpass.getuser() + \" you scored \" + str(correct) +\"/\" + str(questions))\n",
    "\n",
    "print(getpass.getuser() + \" your percentage is \" + str(round(correct/questions*100)) +\"%\")\n",
    "\n"
   ]
  }
 ],
 "metadata": {
  "kernelspec": {
   "display_name": "Python 3.10.6 64-bit",
   "language": "python",
   "name": "python3"
  },
  "language_info": {
   "codemirror_mode": {
    "name": "ipython",
    "version": 3
   },
   "file_extension": ".py",
   "mimetype": "text/x-python",
   "name": "python",
   "nbconvert_exporter": "python",
   "pygments_lexer": "ipython3",
   "version": "3.10.6"
  },
  "orig_nbformat": 4,
  "vscode": {
   "interpreter": {
    "hash": "aee8b7b246df8f9039afb4144a1f6fd8d2ca17a180786b69acc140d282b71a49"
   }
  }
 },
 "nbformat": 4,
 "nbformat_minor": 2
}
